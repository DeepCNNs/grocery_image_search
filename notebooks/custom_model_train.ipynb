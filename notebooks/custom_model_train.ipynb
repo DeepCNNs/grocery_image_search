{
  "nbformat": 4,
  "nbformat_minor": 0,
  "metadata": {
    "colab": {
      "name": "Product_classification.ipynb",
      "provenance": [],
      "collapsed_sections": []
    },
    "kernelspec": {
      "name": "python3",
      "display_name": "Python 3"
    },
    "accelerator": "GPU"
  },
  "cells": [
    {
      "cell_type": "code",
      "metadata": {
        "id": "OsvjpR1ZEBJm"
      },
      "source": [
        "from __future__ import absolute_import\n",
        "from __future__ import division\n",
        "from __future__ import print_function\n",
        "\n",
        "import collections\n",
        "import math\n",
        "import os\n",
        "import random\n",
        "from six.moves import urllib\n",
        "import io\n",
        "import shutil\n",
        "\n",
        "from IPython.display import clear_output, Image, display, HTML\n",
        "\n",
        "\n",
        "import tensorflow as tf\n",
        "import tensorflow_hub as hub\n",
        "\n",
        "import numpy as np\n",
        "import matplotlib.pyplot as plt\n",
        "import seaborn as sns\n",
        "import sklearn.metrics as sk_metrics\n",
        "import time\n",
        "from keras.applications.resnet50 import preprocess_input\n",
        "from tensorflow.python.keras.preprocessing.image import ImageDataGenerator\n",
        "from keras import optimizers\n",
        "\n",
        "from keras.applications.inception_v3 import InceptionV3\n",
        "from keras.applications.resnet50 import preprocess_input, decode_predictions, ResNet50\n",
        "from keras.preprocessing import image\n",
        "from keras import regularizers\n",
        "from keras.models import Model\n",
        "from keras.layers import Dense, GlobalAveragePooling2D, BatchNormalization, Dropout, Flatten\n",
        "from keras import backend as K"
      ],
      "execution_count": 1,
      "outputs": []
    },
    {
      "cell_type": "code",
      "metadata": {
        "id": "snPfh7MEEOIx"
      },
      "source": [
        "from sklearn.metrics import confusion_matrix\n",
        "def plot_confusion_matrix(y_true, y_pred, classes,\n",
        "                          normalize=False,\n",
        "                          title=None,\n",
        "                          cmap=plt.cm.Blues):\n",
        "    \"\"\"\n",
        "    This function prints and plots the confusion matrix.\n",
        "    Normalization can be applied by setting `normalize=True`.\n",
        "    \"\"\"\n",
        "    if not title:\n",
        "        if normalize:\n",
        "            title = 'Normalized confusion matrix'\n",
        "        else:\n",
        "            title = 'Confusion matrix, without normalization'\n",
        "\n",
        "    # Compute confusion matrix\n",
        "    cm = confusion_matrix(y_true, y_pred)\n",
        "    # Only use the labels that appear in the data\n",
        "    classes = classes\n",
        "    if normalize:\n",
        "        cm = cm.astype('float') / cm.sum(axis=1)[:, np.newaxis]\n",
        "        print(\"Normalized confusion matrix\")\n",
        "    else:\n",
        "        print('Confusion matrix, without normalization')\n",
        "\n",
        "    print(cm)\n",
        "\n",
        "    fig, ax = plt.subplots()\n",
        "    im = ax.imshow(cm, interpolation='nearest', cmap=cmap)\n",
        "    ax.figure.colorbar(im, ax=ax)\n",
        "    # We want to show all ticks...\n",
        "    ax.set(xticks=np.arange(cm.shape[1]),\n",
        "           yticks=np.arange(cm.shape[0]),\n",
        "           # ... and label them with the respective list entries\n",
        "           xticklabels=classes, yticklabels=classes,\n",
        "           title=title,\n",
        "           ylabel='True label',\n",
        "           xlabel='Predicted label')\n",
        "\n",
        "    # Rotate the tick labels and set their alignment.\n",
        "    plt.setp(ax.get_xticklabels(), rotation=45, ha=\"right\",\n",
        "             rotation_mode=\"anchor\")\n",
        "\n",
        "    # Loop over data dimensions and create text annotations.\n",
        "    fmt = '.2f' if normalize else 'd'\n",
        "    thresh = cm.max() / 2.\n",
        "    for i in range(cm.shape[0]):\n",
        "        for j in range(cm.shape[1]):\n",
        "            ax.text(j, i, format(cm[i, j], fmt),\n",
        "                    ha=\"center\", va=\"center\",\n",
        "                    color=\"white\" if cm[i, j] > thresh else \"black\")\n",
        "    fig.tight_layout()\n",
        "    return ax\n",
        "\n",
        "  \n"
      ],
      "execution_count": 2,
      "outputs": []
    },
    {
      "cell_type": "code",
      "metadata": {
        "colab": {
          "base_uri": "https://localhost:8080/"
        },
        "id": "HIP7rheLESCf",
        "outputId": "25e15987-38bf-4c7f-aa57-f69f25758e4a"
      },
      "source": [
        "from google.colab import drive\n",
        "drive.mount('/content/gdrive')"
      ],
      "execution_count": 3,
      "outputs": [
        {
          "output_type": "stream",
          "text": [
            "Mounted at /content/gdrive\n"
          ],
          "name": "stdout"
        }
      ]
    },
    {
      "cell_type": "code",
      "metadata": {
        "id": "XFGWNtt8Ecz1"
      },
      "source": [
        "## set train, validation, and test paths\n",
        "train_path = '/content/gdrive/MyDrive/image-classification-deep-neural-networks-groceries/GroceryStoreDataset_1/dataset/train/Packages/' \n",
        "validation_path = '/content/gdrive/MyDrive/image-classification-deep-neural-networks-groceries/GroceryStoreDataset_1/dataset/val/Packages/'\n",
        "test_path = '/content/gdrive/MyDrive/image-classification-deep-neural-networks-groceries/GroceryStoreDataset_1/dataset/test/Packages/'"
      ],
      "execution_count": 5,
      "outputs": []
    },
    {
      "cell_type": "code",
      "metadata": {
        "colab": {
          "base_uri": "https://localhost:8080/"
        },
        "id": "xaFSGDGnGctY",
        "outputId": "2c0bcfee-bc09-4246-a76e-d1b8efc3c015"
      },
      "source": [
        "train_batches  = ImageDataGenerator().flow_from_directory(\n",
        "    train_path, target_size=(224,224), classes = ['Alpro-Blueberry-Soyghurt', 'Alpro-Fresh-Soy-Milk',\n",
        "                                                    'Alpro-Shelf-Soy-Milk', 'Alpro-Vanilla-Soyghurt',\n",
        "                                                    'Arla-Ecological-Medium-Fat-Milk', 'Arla-Ecological-Sour-Cream',\n",
        "                                                    'Arla-Lactose-Medium-Fat-Milk', 'Arla-Medium-Fat-Milk',\n",
        "                                                    'Arla-Mild-Vanilla-Yoghurt', 'Arla-Natural-Mild-Low-Fat-Yoghurt',\n",
        "                                                    'Arla-Natural-Yoghurt', 'Arla-Sour-Cream',\n",
        "                                                    'Arla-Sour-Milk', 'Arla-Standard-Milk',\n",
        "                                                    'Bravo-Apple-Juice', 'Bravo-Orange-Juice',\n",
        "                                                    'Garant-Ecological-Medium-Fat-Milk', 'Garant-Ecological-Standard-Milk',\n",
        "                                                    'God-Morgon-Apple-Juice', 'God-Morgon-Orange-Juice',\n",
        "                                                    'God-Morgon-Orange-Red-Grapefruit-Juice', 'God-Morgon-Red-Grapefruit-Juice',\n",
        "                                                    'Oatly-Natural-Oatghurt', 'Oatly-Oat-Milk',\n",
        "                                                    'Tropicana-Apple-Juice', 'Tropicana-Golden-Grapefruit',\n",
        "                                                    'Tropicana-Juice-Smooth', 'Tropicana-Mandarin-Morning',\n",
        "                                                    'Valio-Vanilla-Yoghurt', 'Yoggi-Strawberry-Yoghurt',\n",
        "                                                    'Yoggi-Vanilla-Yoghurt'], batch_size = 10)\n",
        "\n",
        "validation_batches  = ImageDataGenerator().flow_from_directory(\n",
        "    validation_path, target_size=(224,224), classes = ['Alpro-Blueberry-Soyghurt', 'Alpro-Fresh-Soy-Milk',\n",
        "                                                    'Alpro-Shelf-Soy-Milk', 'Alpro-Vanilla-Soyghurt',\n",
        "                                                    'Arla-Ecological-Medium-Fat-Milk', 'Arla-Ecological-Sour-Cream',\n",
        "                                                    'Arla-Lactose-Medium-Fat-Milk', 'Arla-Medium-Fat-Milk',\n",
        "                                                    'Arla-Mild-Vanilla-Yoghurt', 'Arla-Natural-Mild-Low-Fat-Yoghurt',\n",
        "                                                    'Arla-Natural-Yoghurt', 'Arla-Sour-Cream',\n",
        "                                                    'Arla-Sour-Milk', 'Arla-Standard-Milk',\n",
        "                                                    'Bravo-Apple-Juice', 'Bravo-Orange-Juice',\n",
        "                                                    'Garant-Ecological-Medium-Fat-Milk', 'Garant-Ecological-Standard-Milk',\n",
        "                                                    'God-Morgon-Apple-Juice', 'God-Morgon-Orange-Juice',\n",
        "                                                    'God-Morgon-Orange-Red-Grapefruit-Juice', 'God-Morgon-Red-Grapefruit-Juice',\n",
        "                                                    'Oatly-Natural-Oatghurt', 'Oatly-Oat-Milk',\n",
        "                                                    'Tropicana-Apple-Juice', 'Tropicana-Golden-Grapefruit',\n",
        "                                                    'Tropicana-Juice-Smooth', 'Tropicana-Mandarin-Morning',\n",
        "                                                    'Valio-Vanilla-Yoghurt', 'Yoggi-Strawberry-Yoghurt',\n",
        "                                                    'Yoggi-Vanilla-Yoghurt'], batch_size = 5)\n",
        "\n",
        "test_batches  = ImageDataGenerator().flow_from_directory(\n",
        "    test_path, target_size=(224,224), classes = ['Alpro-Blueberry-Soyghurt', 'Alpro-Fresh-Soy-Milk',\n",
        "                                                    'Alpro-Shelf-Soy-Milk', 'Alpro-Vanilla-Soyghurt',\n",
        "                                                    'Arla-Ecological-Medium-Fat-Milk', 'Arla-Ecological-Sour-Cream',\n",
        "                                                    'Arla-Lactose-Medium-Fat-Milk', 'Arla-Medium-Fat-Milk',\n",
        "                                                    'Arla-Mild-Vanilla-Yoghurt', 'Arla-Natural-Mild-Low-Fat-Yoghurt',\n",
        "                                                    'Arla-Natural-Yoghurt', 'Arla-Sour-Cream',\n",
        "                                                    'Arla-Sour-Milk', 'Arla-Standard-Milk',\n",
        "                                                    'Bravo-Apple-Juice', 'Bravo-Orange-Juice',\n",
        "                                                    'Garant-Ecological-Medium-Fat-Milk', 'Garant-Ecological-Standard-Milk',\n",
        "                                                    'God-Morgon-Apple-Juice', 'God-Morgon-Orange-Juice',\n",
        "                                                    'God-Morgon-Orange-Red-Grapefruit-Juice', 'God-Morgon-Red-Grapefruit-Juice',\n",
        "                                                    'Oatly-Natural-Oatghurt', 'Oatly-Oat-Milk',\n",
        "                                                    'Tropicana-Apple-Juice', 'Tropicana-Golden-Grapefruit',\n",
        "                                                    'Tropicana-Juice-Smooth', 'Tropicana-Mandarin-Morning',\n",
        "                                                    'Valio-Vanilla-Yoghurt', 'Yoggi-Strawberry-Yoghurt',\n",
        "                                                    'Yoggi-Vanilla-Yoghurt'], batch_size = 5)"
      ],
      "execution_count": 6,
      "outputs": [
        {
          "output_type": "stream",
          "text": [
            "Found 864 images belonging to 31 classes.\n",
            "Found 415 images belonging to 31 classes.\n",
            "Found 781 images belonging to 31 classes.\n"
          ],
          "name": "stdout"
        }
      ]
    },
    {
      "cell_type": "code",
      "metadata": {
        "colab": {
          "base_uri": "https://localhost:8080/"
        },
        "id": "oIHyfPzwHjnC",
        "outputId": "7233ef69-8288-4437-beb7-1622dae7767a"
      },
      "source": [
        "#take a look at output of the generators\n",
        "\n",
        "for data_batch, labels_batch in train_batches:\n",
        "    print('data batch shape:', data_batch.shape)\n",
        "    print('labels batch shape:', labels_batch.shape)\n",
        "    break\n",
        "    "
      ],
      "execution_count": 7,
      "outputs": [
        {
          "output_type": "stream",
          "text": [
            "data batch shape: (10, 224, 224, 3)\n",
            "labels batch shape: (10, 31)\n"
          ],
          "name": "stdout"
        }
      ]
    },
    {
      "cell_type": "code",
      "metadata": {
        "colab": {
          "base_uri": "https://localhost:8080/"
        },
        "id": "5W28epm3Gcvf",
        "outputId": "8d2d07a9-9b82-450f-d51f-c59e956e3822"
      },
      "source": [
        "from keras import layers\n",
        "from keras import models\n",
        "\n",
        "model2 = models.Sequential()\n",
        "model2.add(layers.Conv2D(32, (3, 3), activation='relu',\n",
        "                        input_shape=(224, 224, 3)))\n",
        "model2.add(layers.MaxPooling2D((2, 2)))\n",
        "model2.add(layers.Conv2D(64, (3, 3), activation='relu'))\n",
        "model2.add(layers.MaxPooling2D((2, 2)))\n",
        "model2.add(layers.Conv2D(128, (3, 3), activation='relu'))\n",
        "model2.add(layers.MaxPooling2D((2, 2)))\n",
        "model2.add(layers.Conv2D(128, (3, 3), activation='relu'))\n",
        "model2.add(layers.MaxPooling2D((2, 2)))\n",
        "model2.add(layers.Flatten())\n",
        "model2.add(layers.Dense(1024, activation='relu'))\n",
        "model2.add(Dropout(0.5))\n",
        "model2.add(layers.Dense(31, activation='softmax'))\n",
        "model2.summary()\n",
        "model2.save('/content/gdrive/MyDrive/image-classification-deep-neural-networks-groceries/model_1/groceries_basic_model_dropout')"
      ],
      "execution_count": 8,
      "outputs": [
        {
          "output_type": "stream",
          "text": [
            "Model: \"sequential\"\n",
            "_________________________________________________________________\n",
            "Layer (type)                 Output Shape              Param #   \n",
            "=================================================================\n",
            "conv2d (Conv2D)              (None, 222, 222, 32)      896       \n",
            "_________________________________________________________________\n",
            "max_pooling2d (MaxPooling2D) (None, 111, 111, 32)      0         \n",
            "_________________________________________________________________\n",
            "conv2d_1 (Conv2D)            (None, 109, 109, 64)      18496     \n",
            "_________________________________________________________________\n",
            "max_pooling2d_1 (MaxPooling2 (None, 54, 54, 64)        0         \n",
            "_________________________________________________________________\n",
            "conv2d_2 (Conv2D)            (None, 52, 52, 128)       73856     \n",
            "_________________________________________________________________\n",
            "max_pooling2d_2 (MaxPooling2 (None, 26, 26, 128)       0         \n",
            "_________________________________________________________________\n",
            "conv2d_3 (Conv2D)            (None, 24, 24, 128)       147584    \n",
            "_________________________________________________________________\n",
            "max_pooling2d_3 (MaxPooling2 (None, 12, 12, 128)       0         \n",
            "_________________________________________________________________\n",
            "flatten (Flatten)            (None, 18432)             0         \n",
            "_________________________________________________________________\n",
            "dense (Dense)                (None, 1024)              18875392  \n",
            "_________________________________________________________________\n",
            "dropout (Dropout)            (None, 1024)              0         \n",
            "_________________________________________________________________\n",
            "dense_1 (Dense)              (None, 31)                31775     \n",
            "=================================================================\n",
            "Total params: 19,147,999\n",
            "Trainable params: 19,147,999\n",
            "Non-trainable params: 0\n",
            "_________________________________________________________________\n",
            "INFO:tensorflow:Assets written to: /content/gdrive/MyDrive/image-classification-deep-neural-networks-groceries/model_1/groceries_basic_model_dropout/assets\n"
          ],
          "name": "stdout"
        }
      ]
    },
    {
      "cell_type": "code",
      "metadata": {
        "id": "vnq14kOtxnVu"
      },
      "source": [
        "model_json = model2.to_json()\n",
        "with open(\"/content/gdrive/MyDrive/image-classification-deep-neural-networks-groceries/model_1/model.json\",\"w\") as json_file:\n",
        "    json_file.write(model_json)"
      ],
      "execution_count": 9,
      "outputs": []
    },
    {
      "cell_type": "code",
      "metadata": {
        "colab": {
          "base_uri": "https://localhost:8080/"
        },
        "id": "Wy61u3VsIdrq",
        "outputId": "357294fa-2c93-47f6-8872-0178afff7950"
      },
      "source": [
        "## Added more types of Data Augmentation for experimenting\n",
        "## Goal is to get more data\n",
        "\n",
        "\n",
        "\n",
        "train_datagen = ImageDataGenerator(\n",
        "        rotation_range=40,\n",
        "        width_shift_range=0.2,\n",
        "        height_shift_range=0.2,\n",
        "        fill_mode='nearest',\n",
        "        rescale=1./255,\n",
        "        shear_range=0.2,\n",
        "        zoom_range=0.2,\n",
        "        horizontal_flip=True)\n",
        "\n",
        "test_datagen = ImageDataGenerator(rescale=1./255)\n",
        "\n",
        "train_generator = train_datagen.flow_from_directory(\n",
        "        train_path,\n",
        "        target_size=(224, 224),\n",
        "        batch_size=30,\n",
        "        class_mode='categorical')\n",
        "\n",
        "validation_generator = test_datagen.flow_from_directory(\n",
        "        validation_path,\n",
        "        target_size=(224, 224),\n",
        "        batch_size=30,\n",
        "        class_mode='categorical')\n",
        "\n",
        "\n",
        "## set steps per epoch for train\n",
        "train_filenames = train_batches.filenames\n",
        "steps_train = len(train_filenames)/train_batches.batch_size\n",
        "\n",
        "## set steps per epoch for validation\n",
        "validation_filenames = validation_batches.filenames\n",
        "steps_valid = len(validation_filenames)/validation_batches.batch_size\n",
        "\n",
        "\n",
        "steps_per_epoch = len(train_filenames)//30\n",
        "validation_steps = len(validation_filenames)//30 # if you have test data\n",
        "\n",
        "model2.compile(loss='categorical_crossentropy',\n",
        "              optimizer=optimizers.RMSprop(lr=1e-4),\n",
        "              metrics=['acc'])\n",
        "\n",
        "model2_fit_generator = model2.fit_generator(\n",
        "        train_generator,\n",
        "        steps_per_epoch=steps_per_epoch,\n",
        "        epochs=50,\n",
        "        validation_data=validation_generator,\n",
        "        validation_steps=validation_steps)\n",
        "\n",
        "\n"
      ],
      "execution_count": null,
      "outputs": [
        {
          "output_type": "stream",
          "text": [
            "Found 864 images belonging to 31 classes.\n",
            "Found 415 images belonging to 31 classes.\n"
          ],
          "name": "stdout"
        },
        {
          "output_type": "stream",
          "text": [
            "/usr/local/lib/python3.7/dist-packages/tensorflow/python/keras/engine/training.py:1844: UserWarning: `Model.fit_generator` is deprecated and will be removed in a future version. Please use `Model.fit`, which supports generators.\n",
            "  warnings.warn('`Model.fit_generator` is deprecated and '\n"
          ],
          "name": "stderr"
        },
        {
          "output_type": "stream",
          "text": [
            "Epoch 1/50\n",
            "28/28 [==============================] - 178s 6s/step - loss: 3.4464 - acc: 0.0313 - val_loss: 3.3998 - val_acc: 0.1128\n",
            "Epoch 2/50\n",
            "28/28 [==============================] - 109s 4s/step - loss: 3.3601 - acc: 0.0895 - val_loss: 3.2387 - val_acc: 0.0872\n",
            "Epoch 3/50\n",
            "28/28 [==============================] - 107s 4s/step - loss: 3.1786 - acc: 0.1013 - val_loss: 3.0545 - val_acc: 0.1128\n",
            "Epoch 4/50\n",
            "28/28 [==============================] - 106s 4s/step - loss: 2.9994 - acc: 0.1138 - val_loss: 2.8009 - val_acc: 0.1359\n",
            "Epoch 5/50\n",
            "28/28 [==============================] - 105s 4s/step - loss: 2.8638 - acc: 0.1371 - val_loss: 2.5670 - val_acc: 0.2513\n",
            "Epoch 6/50\n",
            "28/28 [==============================] - 112s 4s/step - loss: 2.8211 - acc: 0.1711 - val_loss: 2.5065 - val_acc: 0.3026\n",
            "Epoch 7/50\n",
            "28/28 [==============================] - 107s 4s/step - loss: 2.6437 - acc: 0.2276 - val_loss: 2.2552 - val_acc: 0.3436\n",
            "Epoch 8/50\n",
            "28/28 [==============================] - 106s 4s/step - loss: 2.5027 - acc: 0.2833 - val_loss: 2.2194 - val_acc: 0.3590\n",
            "Epoch 9/50\n",
            "28/28 [==============================] - 106s 4s/step - loss: 2.5035 - acc: 0.2553 - val_loss: 1.9483 - val_acc: 0.4821\n",
            "Epoch 10/50\n",
            "28/28 [==============================] - 105s 4s/step - loss: 2.2879 - acc: 0.2972 - val_loss: 2.1413 - val_acc: 0.3769\n",
            "Epoch 11/50\n",
            "28/28 [==============================] - 106s 4s/step - loss: 2.1355 - acc: 0.3611 - val_loss: 2.0976 - val_acc: 0.4359\n",
            "Epoch 12/50\n",
            "28/28 [==============================] - 106s 4s/step - loss: 2.1308 - acc: 0.3816 - val_loss: 1.8104 - val_acc: 0.4744\n",
            "Epoch 13/50\n",
            "28/28 [==============================] - 112s 4s/step - loss: 2.0445 - acc: 0.3810 - val_loss: 1.8252 - val_acc: 0.5333\n",
            "Epoch 14/50\n",
            "28/28 [==============================] - 106s 4s/step - loss: 1.8569 - acc: 0.4326 - val_loss: 1.6522 - val_acc: 0.5846\n",
            "Epoch 15/50\n",
            "28/28 [==============================] - 106s 4s/step - loss: 1.8287 - acc: 0.4348 - val_loss: 1.5251 - val_acc: 0.5923\n",
            "Epoch 16/50\n",
            "28/28 [==============================] - 106s 4s/step - loss: 1.8514 - acc: 0.4576 - val_loss: 1.5369 - val_acc: 0.5769\n",
            "Epoch 17/50\n",
            "28/28 [==============================] - 106s 4s/step - loss: 1.7446 - acc: 0.4493 - val_loss: 1.6822 - val_acc: 0.5641\n",
            "Epoch 18/50\n",
            "28/28 [==============================] - 107s 4s/step - loss: 1.6465 - acc: 0.4736 - val_loss: 1.3932 - val_acc: 0.6282\n",
            "Epoch 19/50\n",
            "28/28 [==============================] - 107s 4s/step - loss: 1.5191 - acc: 0.5270 - val_loss: 1.4426 - val_acc: 0.6333\n",
            "Epoch 20/50\n",
            "28/28 [==============================] - 107s 4s/step - loss: 1.4957 - acc: 0.5433 - val_loss: 1.4238 - val_acc: 0.6282\n",
            "Epoch 21/50\n",
            "28/28 [==============================] - 107s 4s/step - loss: 1.5149 - acc: 0.5111 - val_loss: 1.3325 - val_acc: 0.6436\n",
            "Epoch 22/50\n",
            "28/28 [==============================] - 107s 4s/step - loss: 1.4894 - acc: 0.5251 - val_loss: 1.1794 - val_acc: 0.6769\n",
            "Epoch 23/50\n",
            "28/28 [==============================] - 106s 4s/step - loss: 1.3530 - acc: 0.5765 - val_loss: 1.6475 - val_acc: 0.5462\n",
            "Epoch 24/50\n",
            "28/28 [==============================] - 108s 4s/step - loss: 1.1540 - acc: 0.6373 - val_loss: 1.3931 - val_acc: 0.5897\n",
            "Epoch 25/50\n",
            "28/28 [==============================] - 117s 4s/step - loss: 1.2717 - acc: 0.5853 - val_loss: 1.3590 - val_acc: 0.6333\n",
            "Epoch 26/50\n",
            "28/28 [==============================] - 108s 4s/step - loss: 1.3491 - acc: 0.5730 - val_loss: 1.2218 - val_acc: 0.6385\n",
            "Epoch 27/50\n",
            "28/28 [==============================] - 108s 4s/step - loss: 1.1656 - acc: 0.6272 - val_loss: 1.1607 - val_acc: 0.6667\n",
            "Epoch 28/50\n",
            "28/28 [==============================] - 107s 4s/step - loss: 1.1474 - acc: 0.6618 - val_loss: 1.3715 - val_acc: 0.6333\n",
            "Epoch 29/50\n",
            "28/28 [==============================] - 106s 4s/step - loss: 1.1562 - acc: 0.6318 - val_loss: 1.1434 - val_acc: 0.7231\n",
            "Epoch 30/50\n",
            "28/28 [==============================] - 106s 4s/step - loss: 1.1422 - acc: 0.6095 - val_loss: 1.3128 - val_acc: 0.6718\n",
            "Epoch 31/50\n",
            "28/28 [==============================] - 109s 4s/step - loss: 1.0677 - acc: 0.6663 - val_loss: 1.2202 - val_acc: 0.6923\n",
            "Epoch 32/50\n",
            "28/28 [==============================] - 107s 4s/step - loss: 1.0860 - acc: 0.6515 - val_loss: 1.2461 - val_acc: 0.6564\n",
            "Epoch 33/50\n",
            "28/28 [==============================] - 107s 4s/step - loss: 1.0262 - acc: 0.6692 - val_loss: 1.0230 - val_acc: 0.7308\n",
            "Epoch 34/50\n",
            "28/28 [==============================] - 108s 4s/step - loss: 0.9514 - acc: 0.7122 - val_loss: 1.0388 - val_acc: 0.7103\n",
            "Epoch 35/50\n",
            "28/28 [==============================] - 108s 4s/step - loss: 0.8928 - acc: 0.7260 - val_loss: 0.9467 - val_acc: 0.7385\n",
            "Epoch 36/50\n",
            "28/28 [==============================] - 106s 4s/step - loss: 0.9929 - acc: 0.7102 - val_loss: 0.9816 - val_acc: 0.7282\n",
            "Epoch 37/50\n",
            "28/28 [==============================] - 106s 4s/step - loss: 1.0000 - acc: 0.6900 - val_loss: 0.9799 - val_acc: 0.7231\n",
            "Epoch 38/50\n",
            "28/28 [==============================] - 106s 4s/step - loss: 0.9389 - acc: 0.7016 - val_loss: 0.9546 - val_acc: 0.7359\n",
            "Epoch 39/50\n",
            "28/28 [==============================] - 106s 4s/step - loss: 0.9097 - acc: 0.7288 - val_loss: 1.4137 - val_acc: 0.6282\n",
            "Epoch 40/50\n",
            "28/28 [==============================] - 106s 4s/step - loss: 0.8499 - acc: 0.7163 - val_loss: 0.9218 - val_acc: 0.7385\n",
            "Epoch 41/50\n",
            "28/28 [==============================] - 106s 4s/step - loss: 0.8584 - acc: 0.7293 - val_loss: 1.1106 - val_acc: 0.7333\n",
            "Epoch 42/50\n",
            "28/28 [==============================] - 106s 4s/step - loss: 0.8524 - acc: 0.7669 - val_loss: 0.9374 - val_acc: 0.7564\n",
            "Epoch 43/50\n",
            "28/28 [==============================] - 107s 4s/step - loss: 0.7743 - acc: 0.7476 - val_loss: 0.9262 - val_acc: 0.7718\n",
            "Epoch 44/50\n",
            "28/28 [==============================] - 107s 4s/step - loss: 0.7834 - acc: 0.7509 - val_loss: 0.8771 - val_acc: 0.7974\n",
            "Epoch 45/50\n",
            "28/28 [==============================] - 124s 4s/step - loss: 0.7328 - acc: 0.7586 - val_loss: 1.0126 - val_acc: 0.7462\n",
            "Epoch 46/50\n",
            "28/28 [==============================] - 120s 4s/step - loss: 0.7131 - acc: 0.7728 - val_loss: 0.9025 - val_acc: 0.7949\n",
            "Epoch 47/50\n",
            "28/28 [==============================] - 108s 4s/step - loss: 0.8200 - acc: 0.7175 - val_loss: 0.8380 - val_acc: 0.8026\n",
            "Epoch 48/50\n",
            "28/28 [==============================] - 106s 4s/step - loss: 0.7044 - acc: 0.7583 - val_loss: 0.8881 - val_acc: 0.7949\n",
            "Epoch 49/50\n",
            "28/28 [==============================] - 108s 4s/step - loss: 0.6235 - acc: 0.7882 - val_loss: 0.8537 - val_acc: 0.8077\n",
            "Epoch 50/50\n",
            "28/28 [==============================] - 106s 4s/step - loss: 0.6218 - acc: 0.7939 - val_loss: 0.7905 - val_acc: 0.8103\n"
          ],
          "name": "stdout"
        }
      ]
    },
    {
      "cell_type": "code",
      "metadata": {
        "colab": {
          "base_uri": "https://localhost:8080/"
        },
        "id": "oYxxtyWgIlJq",
        "outputId": "f8667500-e8fa-40cd-e751-70d90956f5d1"
      },
      "source": [
        "model2_test_datagen = ImageDataGenerator(rescale=1./255)\n",
        "\n",
        "model2_test_generator = model2_test_datagen.flow_from_directory(\n",
        "        test_path,\n",
        "        target_size=(224, 224),\n",
        "        batch_size=1,\n",
        "        shuffle = False,\n",
        "        class_mode='categorical')\n",
        "\n",
        "filenames = model2_test_generator.filenames\n",
        "nb_samples = len(filenames)\n",
        "\n",
        "model2_predict = model2.predict_generator(model2_test_generator,steps = nb_samples, verbose=2)\n",
        "\n"
      ],
      "execution_count": null,
      "outputs": [
        {
          "output_type": "stream",
          "text": [
            "Found 781 images belonging to 31 classes.\n"
          ],
          "name": "stdout"
        },
        {
          "output_type": "stream",
          "text": [
            "/usr/local/lib/python3.7/dist-packages/tensorflow/python/keras/engine/training.py:1905: UserWarning: `Model.predict_generator` is deprecated and will be removed in a future version. Please use `Model.predict`, which supports generators.\n",
            "  warnings.warn('`Model.predict_generator` is deprecated and '\n"
          ],
          "name": "stderr"
        },
        {
          "output_type": "stream",
          "text": [
            "781/781 - 226s\n"
          ],
          "name": "stdout"
        }
      ]
    },
    {
      "cell_type": "code",
      "metadata": {
        "colab": {
          "base_uri": "https://localhost:8080/",
          "height": 1000
        },
        "id": "6ZSNSwQAInZj",
        "outputId": "8b825cf9-c111-4b80-c249-3b8fa72582fb"
      },
      "source": [
        "y_true = model2_test_generator.classes\n",
        "y_pred = model2_predict.argmax(axis=1)\n",
        "plot_confusion_matrix(y_true, y_pred, classes=['Alpro-Blueberry-Soyghurt', 'Alpro-Fresh-Soy-Milk',\n",
        "                                                    'Alpro-Shelf-Soy-Milk', 'Alpro-Vanilla-Soyghurt',\n",
        "                                                    'Arla-Ecological-Medium-Fat-Milk', 'Arla-Ecological-Sour-Cream',\n",
        "                                                    'Arla-Lactose-Medium-Fat-Milk', 'Arla-Medium-Fat-Milk',\n",
        "                                                    'Arla-Mild-Vanilla-Yoghurt', 'Arla-Natural-Mild-Low-Fat-Yoghurt',\n",
        "                                                    'Arla-Natural-Yoghurt', 'Arla-Sour-Cream',\n",
        "                                                    'Arla-Sour-Milk', 'Arla-Standard-Milk',\n",
        "                                                    'Bravo-Apple-Juice', 'Bravo-Orange-Juice',\n",
        "                                                    'Garant-Ecological-Medium-Fat-Milk', 'Garant-Ecological-Standard-Milk',\n",
        "                                                    'God-Morgon-Apple-Juice', 'God-Morgon-Orange-Juice',\n",
        "                                                    'God-Morgon-Orange-Red-Grapefruit-Juice', 'God-Morgon-Red-Grapefruit-Juice',\n",
        "                                                    'Oatly-Natural-Oatghurt', 'Oatly-Oat-Milk',\n",
        "                                                    'Tropicana-Apple-Juice', 'Tropicana-Golden-Grapefruit',\n",
        "                                                    'Tropicana-Juice-Smooth', 'Tropicana-Mandarin-Morning',\n",
        "                                                    'Valio-Vanilla-Yoghurt', 'Yoggi-Strawberry-Yoghurt',\n",
        "                                                    'Yoggi-Vanilla-Yoghurt'],\n",
        "                      title='Confusion matrix, without normalization')\n",
        "#plots(test_images, titles=test_labels)\n",
        "print(filenames)"
      ],
      "execution_count": null,
      "outputs": [
        {
          "output_type": "stream",
          "text": [
            "Confusion matrix, without normalization\n",
            "[[ 1  1  0 19  0  1  0  0  0  0  0  0  0  0  0  0  0  0  0  0  0  1  0  0\n",
            "   0  0  5  0  0  0  0]\n",
            " [ 0 20  6  2  0  0  0  0  0  0  0  0  0  0  0  0  0  0  0  0  0  0  0  0\n",
            "   0  0  0  0  0  0  0]\n",
            " [ 0  3 24  1  0  0  0  0  0  0  2  0  0  0  0  0  0  0  0  0  0  0  0  0\n",
            "   0  0  0  0  0  0  0]\n",
            " [13  0  0  1  0  0  0  0  0  0  0  0  0  0  0  0  0  0  0  0  0  0  0  0\n",
            "   0  0  0  0  5  0  0]\n",
            " [ 0  0  0  0 22  0  0  0  1  0  0  0  1  0  0  0  2  0  0  0  0  0  0  0\n",
            "   0  0  2  0  0  1  0]\n",
            " [ 0  0  0  1  0  7  0  0  0  0  1  6  2  4  0  0  0  2  0  0  0  0  0  0\n",
            "   0  0  0  0  0  0  0]\n",
            " [ 0  0  0  0  0  0 24  1  0  0  0  0  0  0  0  0  0  0  0  0  0  0  0  0\n",
            "   0  0  0  0  0  0  0]\n",
            " [ 0  0  0  0  0  0  4  8  0  0  0  0  0  0  0  0 14  0  8  0  0  0  0  0\n",
            "   0  0  0  0  0  0  0]\n",
            " [ 0  0  0  0  0  0  0  0  7  0  0  0  0  0  0  1  0  0  0  0  3  4  7  0\n",
            "   2  1  0  1  1  0  0]\n",
            " [ 0  0  0  0  0  0  1  0  5  6  0  1  0  3  0  0  0  0  0  0  0  0  7  0\n",
            "   0  0  0  0  0  0  0]\n",
            " [ 0  0  1  0  0  0  0  0  0  0 37  0  2  0  0  0  0  0  0  0  0  0  1  0\n",
            "   0  0  0  0  0  0  0]\n",
            " [ 0  0  0  1  0  8  0  0  0  0  0  6  0  3  0  0  0  0  0  0  0  0  0  0\n",
            "   0  0  0  0  0  0  0]\n",
            " [ 0  0  0  0  0  1  0  0  0  0  0  2 16  0  0  0  0  0  0  0  0  0  0  0\n",
            "   0  0  0  0  0  0  0]\n",
            " [ 0  0  0  0  0  0  0  0  0  0  0  0  0 29  0  0  0  1  0  0  0  0  0  0\n",
            "   0  0  0  0  0  0  0]\n",
            " [ 0  0  0  0  0  0  0  0  0  0  0  0  0  0 23  0  0  0  0  0  0  0  0  0\n",
            "   0  0  0  0  0  0  0]\n",
            " [ 0  0  0  0  0  0  0  0  0  0  0  0  0  0  0 31  0  0  0  0  0  0  0  0\n",
            "   0  0  0  0  0  0  0]\n",
            " [ 0  0  0  0  0  0  1  0  0  0  0  0  0  0  0  0 34  0  0  0  0  0  0  0\n",
            "   0  0  0  0  0  0  0]\n",
            " [ 0  0  0  0  0  1  0  0  0  2  0  0  0  7  0  0  0  1  0  0  0  0  0  0\n",
            "   0  0  0  0  0  0  0]\n",
            " [ 0  0  0  0  0  0  0  0  0  0  0  0  0  0  0  0  0  0 15  2  2  0  0  0\n",
            "   0  0  0  0  0  0  0]\n",
            " [ 0  0  0  0  0  0  0  0  0  0  0  0  0  0  0  0  0  0  0 22  0  0  0  0\n",
            "   0  0  0  0  0  0  0]\n",
            " [ 0  0  0  0  0  0  0  0  0  0  0  0  0  0  0  0  0  0  6  3  6  4  0  0\n",
            "   0  0  0  0  0  0  0]\n",
            " [ 0  0  0  0  0  0  0  0  0  0  0  0  0  0  0  0  0  0  2  0 10  2  0  0\n",
            "   0  0  0  0  0  0  0]\n",
            " [ 0  0  0  1  0  0  0  0  0  2  0  1  0  0  0  0  0  0  0  0  0  0 18  8\n",
            "   0  0  0  0  0  0  0]\n",
            " [ 0  2  0  1  0  2  0  0  0  1  0  2  0  0  0  0  0  0  0  0  0  0  4 18\n",
            "   0  0  1  0  0  0  0]\n",
            " [ 0  0  0  0  0  0  2  1  0  0  0  0  0  0  5  0  1  0  0  0  0  0  1  0\n",
            "  18  0  0  0  0  0  0]\n",
            " [ 0  0  0  0  1  0  0  0  0  0  0  0  0  0  2  0  1  0  0  1  0  0  0  0\n",
            "   7  5  0  0  1  0  1]\n",
            " [ 0  0  0  0  0  0  0  0  0  0  0  0  0  0  0  0  0  0  0  0  0  0  0  0\n",
            "   0  0 24  0  0  0  0]\n",
            " [ 0  0  0  0  0  0  0  0  1  0  0  0  0  0  0  7  0  0  0  0  0  0  0  0\n",
            "   4  2  1  5  0  0  0]\n",
            " [ 0  1  0  0  0  0  0  0  0  0  0  0  0  0  0  0  0  0  0  0  0  0  0  0\n",
            "   0  0  0  0 11 13  6]\n",
            " [ 0  0  0  0  0  0  0  0  0  0  0  0  0  0  0  1  0  0  0  0  0  0  0  0\n",
            "   0  0  0  0  0 20 11]\n",
            " [ 0  0  0  0  0  0  0  0  0  0  0  0  0  0  0  0  0  0  0  0  0  0  0  0\n",
            "   0  0  0  0  0 12  6]]\n",
            "['Alpro-Blueberry-Soyghurt/Alpro-Blueberry-Soyghurt_001.jpg', 'Alpro-Blueberry-Soyghurt/Alpro-Blueberry-Soyghurt_002.jpg', 'Alpro-Blueberry-Soyghurt/Alpro-Blueberry-Soyghurt_003.jpg', 'Alpro-Blueberry-Soyghurt/Alpro-Blueberry-Soyghurt_004.jpg', 'Alpro-Blueberry-Soyghurt/Alpro-Blueberry-Soyghurt_005.jpg', 'Alpro-Blueberry-Soyghurt/Alpro-Blueberry-Soyghurt_006.jpg', 'Alpro-Blueberry-Soyghurt/Alpro-Blueberry-Soyghurt_007.jpg', 'Alpro-Blueberry-Soyghurt/Alpro-Blueberry-Soyghurt_008.jpg', 'Alpro-Blueberry-Soyghurt/Alpro-Blueberry-Soyghurt_009.jpg', 'Alpro-Blueberry-Soyghurt/Alpro-Blueberry-Soyghurt_010.jpg', 'Alpro-Blueberry-Soyghurt/Alpro-Blueberry-Soyghurt_011.jpg', 'Alpro-Blueberry-Soyghurt/Alpro-Blueberry-Soyghurt_012.jpg', 'Alpro-Blueberry-Soyghurt/Alpro-Blueberry-Soyghurt_013.jpg', 'Alpro-Blueberry-Soyghurt/Alpro-Blueberry-Soyghurt_014.jpg', 'Alpro-Blueberry-Soyghurt/Alpro-Blueberry-Soyghurt_015.jpg', 'Alpro-Blueberry-Soyghurt/Alpro-Blueberry-Soyghurt_016.jpg', 'Alpro-Blueberry-Soyghurt/Alpro-Blueberry-Soyghurt_017.jpg', 'Alpro-Blueberry-Soyghurt/Alpro-Blueberry-Soyghurt_018.jpg', 'Alpro-Blueberry-Soyghurt/Alpro-Blueberry-Soyghurt_019.jpg', 'Alpro-Blueberry-Soyghurt/Alpro-Blueberry-Soyghurt_020.jpg', 'Alpro-Blueberry-Soyghurt/Alpro-Blueberry-Soyghurt_021.jpg', 'Alpro-Blueberry-Soyghurt/Alpro-Blueberry-Soyghurt_022.jpg', 'Alpro-Blueberry-Soyghurt/Alpro-Blueberry-Soyghurt_023.jpg', 'Alpro-Blueberry-Soyghurt/Alpro-Blueberry-Soyghurt_024.jpg', 'Alpro-Blueberry-Soyghurt/Alpro-Blueberry-Soyghurt_025.jpg', 'Alpro-Blueberry-Soyghurt/Alpro-Blueberry-Soyghurt_026.jpg', 'Alpro-Blueberry-Soyghurt/Alpro-Blueberry-Soyghurt_027.jpg', 'Alpro-Blueberry-Soyghurt/Alpro-Blueberry-Soyghurt_028.jpg', 'Alpro-Fresh-Soy-Milk/Alpro-Fresh-Soy-Milk_001.jpg', 'Alpro-Fresh-Soy-Milk/Alpro-Fresh-Soy-Milk_002.jpg', 'Alpro-Fresh-Soy-Milk/Alpro-Fresh-Soy-Milk_003.jpg', 'Alpro-Fresh-Soy-Milk/Alpro-Fresh-Soy-Milk_004.jpg', 'Alpro-Fresh-Soy-Milk/Alpro-Fresh-Soy-Milk_005.jpg', 'Alpro-Fresh-Soy-Milk/Alpro-Fresh-Soy-Milk_006.jpg', 'Alpro-Fresh-Soy-Milk/Alpro-Fresh-Soy-Milk_007.jpg', 'Alpro-Fresh-Soy-Milk/Alpro-Fresh-Soy-Milk_008.jpg', 'Alpro-Fresh-Soy-Milk/Alpro-Fresh-Soy-Milk_009.jpg', 'Alpro-Fresh-Soy-Milk/Alpro-Fresh-Soy-Milk_010.jpg', 'Alpro-Fresh-Soy-Milk/Alpro-Fresh-Soy-Milk_011.jpg', 'Alpro-Fresh-Soy-Milk/Alpro-Fresh-Soy-Milk_012.jpg', 'Alpro-Fresh-Soy-Milk/Alpro-Fresh-Soy-Milk_013.jpg', 'Alpro-Fresh-Soy-Milk/Alpro-Fresh-Soy-Milk_014.jpg', 'Alpro-Fresh-Soy-Milk/Alpro-Fresh-Soy-Milk_015.jpg', 'Alpro-Fresh-Soy-Milk/Alpro-Fresh-Soy-Milk_016.jpg', 'Alpro-Fresh-Soy-Milk/Alpro-Fresh-Soy-Milk_017.jpg', 'Alpro-Fresh-Soy-Milk/Alpro-Fresh-Soy-Milk_018.jpg', 'Alpro-Fresh-Soy-Milk/Alpro-Fresh-Soy-Milk_019.jpg', 'Alpro-Fresh-Soy-Milk/Alpro-Fresh-Soy-Milk_020.jpg', 'Alpro-Fresh-Soy-Milk/Alpro-Fresh-Soy-Milk_021.jpg', 'Alpro-Fresh-Soy-Milk/Alpro-Fresh-Soy-Milk_022.jpg', 'Alpro-Fresh-Soy-Milk/Alpro-Fresh-Soy-Milk_023.jpg', 'Alpro-Fresh-Soy-Milk/Alpro-Fresh-Soy-Milk_024.jpg', 'Alpro-Fresh-Soy-Milk/Alpro-Fresh-Soy-Milk_025.jpg', 'Alpro-Fresh-Soy-Milk/Alpro-Fresh-Soy-Milk_026.jpg', 'Alpro-Fresh-Soy-Milk/Alpro-Fresh-Soy-Milk_027.jpg', 'Alpro-Fresh-Soy-Milk/Alpro-Fresh-Soy-Milk_028.jpg', 'Alpro-Shelf-Soy-Milk/Alpro-Shelf-Soy-Milk_001.jpg', 'Alpro-Shelf-Soy-Milk/Alpro-Shelf-Soy-Milk_002.jpg', 'Alpro-Shelf-Soy-Milk/Alpro-Shelf-Soy-Milk_003.jpg', 'Alpro-Shelf-Soy-Milk/Alpro-Shelf-Soy-Milk_004.jpg', 'Alpro-Shelf-Soy-Milk/Alpro-Shelf-Soy-Milk_005.jpg', 'Alpro-Shelf-Soy-Milk/Alpro-Shelf-Soy-Milk_006.jpg', 'Alpro-Shelf-Soy-Milk/Alpro-Shelf-Soy-Milk_007.jpg', 'Alpro-Shelf-Soy-Milk/Alpro-Shelf-Soy-Milk_008.jpg', 'Alpro-Shelf-Soy-Milk/Alpro-Shelf-Soy-Milk_009.jpg', 'Alpro-Shelf-Soy-Milk/Alpro-Shelf-Soy-Milk_010.jpg', 'Alpro-Shelf-Soy-Milk/Alpro-Shelf-Soy-Milk_011.jpg', 'Alpro-Shelf-Soy-Milk/Alpro-Shelf-Soy-Milk_012.jpg', 'Alpro-Shelf-Soy-Milk/Alpro-Shelf-Soy-Milk_013.jpg', 'Alpro-Shelf-Soy-Milk/Alpro-Shelf-Soy-Milk_014.jpg', 'Alpro-Shelf-Soy-Milk/Alpro-Shelf-Soy-Milk_015.jpg', 'Alpro-Shelf-Soy-Milk/Alpro-Shelf-Soy-Milk_016.jpg', 'Alpro-Shelf-Soy-Milk/Alpro-Shelf-Soy-Milk_017.jpg', 'Alpro-Shelf-Soy-Milk/Alpro-Shelf-Soy-Milk_018.jpg', 'Alpro-Shelf-Soy-Milk/Alpro-Shelf-Soy-Milk_019.jpg', 'Alpro-Shelf-Soy-Milk/Alpro-Shelf-Soy-Milk_020.jpg', 'Alpro-Shelf-Soy-Milk/Alpro-Shelf-Soy-Milk_021.jpg', 'Alpro-Shelf-Soy-Milk/Alpro-Shelf-Soy-Milk_022.jpg', 'Alpro-Shelf-Soy-Milk/Alpro-Shelf-Soy-Milk_023.jpg', 'Alpro-Shelf-Soy-Milk/Alpro-Shelf-Soy-Milk_024.jpg', 'Alpro-Shelf-Soy-Milk/Alpro-Shelf-Soy-Milk_025.jpg', 'Alpro-Shelf-Soy-Milk/Alpro-Shelf-Soy-Milk_026.jpg', 'Alpro-Shelf-Soy-Milk/Alpro-Shelf-Soy-Milk_027.jpg', 'Alpro-Shelf-Soy-Milk/Alpro-Shelf-Soy-Milk_028.jpg', 'Alpro-Shelf-Soy-Milk/Alpro-Shelf-Soy-Milk_029.jpg', 'Alpro-Shelf-Soy-Milk/Alpro-Shelf-Soy-Milk_030.jpg', 'Alpro-Vanilla-Soyghurt/Alpro-Vanilla-Soyghurt_001.jpg', 'Alpro-Vanilla-Soyghurt/Alpro-Vanilla-Soyghurt_002.jpg', 'Alpro-Vanilla-Soyghurt/Alpro-Vanilla-Soyghurt_003.jpg', 'Alpro-Vanilla-Soyghurt/Alpro-Vanilla-Soyghurt_004.jpg', 'Alpro-Vanilla-Soyghurt/Alpro-Vanilla-Soyghurt_005.jpg', 'Alpro-Vanilla-Soyghurt/Alpro-Vanilla-Soyghurt_006.jpg', 'Alpro-Vanilla-Soyghurt/Alpro-Vanilla-Soyghurt_007.jpg', 'Alpro-Vanilla-Soyghurt/Alpro-Vanilla-Soyghurt_008.jpg', 'Alpro-Vanilla-Soyghurt/Alpro-Vanilla-Soyghurt_009.jpg', 'Alpro-Vanilla-Soyghurt/Alpro-Vanilla-Soyghurt_010.jpg', 'Alpro-Vanilla-Soyghurt/Alpro-Vanilla-Soyghurt_011.jpg', 'Alpro-Vanilla-Soyghurt/Alpro-Vanilla-Soyghurt_012.jpg', 'Alpro-Vanilla-Soyghurt/Alpro-Vanilla-Soyghurt_013.jpg', 'Alpro-Vanilla-Soyghurt/Alpro-Vanilla-Soyghurt_014.jpg', 'Alpro-Vanilla-Soyghurt/Alpro-Vanilla-Soyghurt_015.jpg', 'Alpro-Vanilla-Soyghurt/Alpro-Vanilla-Soyghurt_016.jpg', 'Alpro-Vanilla-Soyghurt/Alpro-Vanilla-Soyghurt_017.jpg', 'Alpro-Vanilla-Soyghurt/Alpro-Vanilla-Soyghurt_018.jpg', 'Alpro-Vanilla-Soyghurt/Alpro-Vanilla-Soyghurt_019.jpg', 'Arla-Ecological-Medium-Fat-Milk/Arla-Ecological-Medium-Fat-Milk_001.jpg', 'Arla-Ecological-Medium-Fat-Milk/Arla-Ecological-Medium-Fat-Milk_002.jpg', 'Arla-Ecological-Medium-Fat-Milk/Arla-Ecological-Medium-Fat-Milk_003.jpg', 'Arla-Ecological-Medium-Fat-Milk/Arla-Ecological-Medium-Fat-Milk_004.jpg', 'Arla-Ecological-Medium-Fat-Milk/Arla-Ecological-Medium-Fat-Milk_005.jpg', 'Arla-Ecological-Medium-Fat-Milk/Arla-Ecological-Medium-Fat-Milk_006.jpg', 'Arla-Ecological-Medium-Fat-Milk/Arla-Ecological-Medium-Fat-Milk_007.jpg', 'Arla-Ecological-Medium-Fat-Milk/Arla-Ecological-Medium-Fat-Milk_008.jpg', 'Arla-Ecological-Medium-Fat-Milk/Arla-Ecological-Medium-Fat-Milk_009.jpg', 'Arla-Ecological-Medium-Fat-Milk/Arla-Ecological-Medium-Fat-Milk_010.jpg', 'Arla-Ecological-Medium-Fat-Milk/Arla-Ecological-Medium-Fat-Milk_011.jpg', 'Arla-Ecological-Medium-Fat-Milk/Arla-Ecological-Medium-Fat-Milk_012.jpg', 'Arla-Ecological-Medium-Fat-Milk/Arla-Ecological-Medium-Fat-Milk_013.jpg', 'Arla-Ecological-Medium-Fat-Milk/Arla-Ecological-Medium-Fat-Milk_014.jpg', 'Arla-Ecological-Medium-Fat-Milk/Arla-Ecological-Medium-Fat-Milk_015.jpg', 'Arla-Ecological-Medium-Fat-Milk/Arla-Ecological-Medium-Fat-Milk_016.jpg', 'Arla-Ecological-Medium-Fat-Milk/Arla-Ecological-Medium-Fat-Milk_017.jpg', 'Arla-Ecological-Medium-Fat-Milk/Arla-Ecological-Medium-Fat-Milk_018.jpg', 'Arla-Ecological-Medium-Fat-Milk/Arla-Ecological-Medium-Fat-Milk_019.jpg', 'Arla-Ecological-Medium-Fat-Milk/Arla-Ecological-Medium-Fat-Milk_020.jpg', 'Arla-Ecological-Medium-Fat-Milk/Arla-Ecological-Medium-Fat-Milk_021.jpg', 'Arla-Ecological-Medium-Fat-Milk/Arla-Ecological-Medium-Fat-Milk_022.jpg', 'Arla-Ecological-Medium-Fat-Milk/Arla-Ecological-Medium-Fat-Milk_023.jpg', 'Arla-Ecological-Medium-Fat-Milk/Arla-Ecological-Medium-Fat-Milk_024.jpg', 'Arla-Ecological-Medium-Fat-Milk/Arla-Ecological-Medium-Fat-Milk_025.jpg', 'Arla-Ecological-Medium-Fat-Milk/Arla-Ecological-Medium-Fat-Milk_026.jpg', 'Arla-Ecological-Medium-Fat-Milk/Arla-Ecological-Medium-Fat-Milk_027.jpg', 'Arla-Ecological-Medium-Fat-Milk/Arla-Ecological-Medium-Fat-Milk_028.jpg', 'Arla-Ecological-Medium-Fat-Milk/Arla-Ecological-Medium-Fat-Milk_029.jpg', 'Arla-Ecological-Sour-Cream/Arla-Ecological-Sour-Cream_001.jpg', 'Arla-Ecological-Sour-Cream/Arla-Ecological-Sour-Cream_002.jpg', 'Arla-Ecological-Sour-Cream/Arla-Ecological-Sour-Cream_003.jpg', 'Arla-Ecological-Sour-Cream/Arla-Ecological-Sour-Cream_004.jpg', 'Arla-Ecological-Sour-Cream/Arla-Ecological-Sour-Cream_005.jpg', 'Arla-Ecological-Sour-Cream/Arla-Ecological-Sour-Cream_006.jpg', 'Arla-Ecological-Sour-Cream/Arla-Ecological-Sour-Cream_007.jpg', 'Arla-Ecological-Sour-Cream/Arla-Ecological-Sour-Cream_008.jpg', 'Arla-Ecological-Sour-Cream/Arla-Ecological-Sour-Cream_009.jpg', 'Arla-Ecological-Sour-Cream/Arla-Ecological-Sour-Cream_010.jpg', 'Arla-Ecological-Sour-Cream/Arla-Ecological-Sour-Cream_011.jpg', 'Arla-Ecological-Sour-Cream/Arla-Ecological-Sour-Cream_012.jpg', 'Arla-Ecological-Sour-Cream/Arla-Ecological-Sour-Cream_013.jpg', 'Arla-Ecological-Sour-Cream/Arla-Ecological-Sour-Cream_014.jpg', 'Arla-Ecological-Sour-Cream/Arla-Ecological-Sour-Cream_015.jpg', 'Arla-Ecological-Sour-Cream/Arla-Ecological-Sour-Cream_016.jpg', 'Arla-Ecological-Sour-Cream/Arla-Ecological-Sour-Cream_017.jpg', 'Arla-Ecological-Sour-Cream/Arla-Ecological-Sour-Cream_018.jpg', 'Arla-Ecological-Sour-Cream/Arla-Ecological-Sour-Cream_019.jpg', 'Arla-Ecological-Sour-Cream/Arla-Ecological-Sour-Cream_020.jpg', 'Arla-Ecological-Sour-Cream/Arla-Ecological-Sour-Cream_021.jpg', 'Arla-Ecological-Sour-Cream/Arla-Ecological-Sour-Cream_022.jpg', 'Arla-Ecological-Sour-Cream/Arla-Ecological-Sour-Cream_023.jpg', 'Arla-Lactose-Medium-Fat-Milk/Arla-Lactose-Medium-Fat-Milk_001.jpg', 'Arla-Lactose-Medium-Fat-Milk/Arla-Lactose-Medium-Fat-Milk_002.jpg', 'Arla-Lactose-Medium-Fat-Milk/Arla-Lactose-Medium-Fat-Milk_003.jpg', 'Arla-Lactose-Medium-Fat-Milk/Arla-Lactose-Medium-Fat-Milk_004.jpg', 'Arla-Lactose-Medium-Fat-Milk/Arla-Lactose-Medium-Fat-Milk_005.jpg', 'Arla-Lactose-Medium-Fat-Milk/Arla-Lactose-Medium-Fat-Milk_006.jpg', 'Arla-Lactose-Medium-Fat-Milk/Arla-Lactose-Medium-Fat-Milk_007.jpg', 'Arla-Lactose-Medium-Fat-Milk/Arla-Lactose-Medium-Fat-Milk_008.jpg', 'Arla-Lactose-Medium-Fat-Milk/Arla-Lactose-Medium-Fat-Milk_009.jpg', 'Arla-Lactose-Medium-Fat-Milk/Arla-Lactose-Medium-Fat-Milk_010.jpg', 'Arla-Lactose-Medium-Fat-Milk/Arla-Lactose-Medium-Fat-Milk_011.jpg', 'Arla-Lactose-Medium-Fat-Milk/Arla-Lactose-Medium-Fat-Milk_012.jpg', 'Arla-Lactose-Medium-Fat-Milk/Arla-Lactose-Medium-Fat-Milk_013.jpg', 'Arla-Lactose-Medium-Fat-Milk/Arla-Lactose-Medium-Fat-Milk_014.jpg', 'Arla-Lactose-Medium-Fat-Milk/Arla-Lactose-Medium-Fat-Milk_015.jpg', 'Arla-Lactose-Medium-Fat-Milk/Arla-Lactose-Medium-Fat-Milk_016.jpg', 'Arla-Lactose-Medium-Fat-Milk/Arla-Lactose-Medium-Fat-Milk_017.jpg', 'Arla-Lactose-Medium-Fat-Milk/Arla-Lactose-Medium-Fat-Milk_018.jpg', 'Arla-Lactose-Medium-Fat-Milk/Arla-Lactose-Medium-Fat-Milk_019.jpg', 'Arla-Lactose-Medium-Fat-Milk/Arla-Lactose-Medium-Fat-Milk_020.jpg', 'Arla-Lactose-Medium-Fat-Milk/Arla-Lactose-Medium-Fat-Milk_021.jpg', 'Arla-Lactose-Medium-Fat-Milk/Arla-Lactose-Medium-Fat-Milk_022.jpg', 'Arla-Lactose-Medium-Fat-Milk/Arla-Lactose-Medium-Fat-Milk_023.jpg', 'Arla-Lactose-Medium-Fat-Milk/Arla-Lactose-Medium-Fat-Milk_024.jpg', 'Arla-Lactose-Medium-Fat-Milk/Arla-Lactose-Medium-Fat-Milk_025.jpg', 'Arla-Medium-Fat-Milk/Arla-Medium-Fat-Milk_001.jpg', 'Arla-Medium-Fat-Milk/Arla-Medium-Fat-Milk_002.jpg', 'Arla-Medium-Fat-Milk/Arla-Medium-Fat-Milk_003.jpg', 'Arla-Medium-Fat-Milk/Arla-Medium-Fat-Milk_004.jpg', 'Arla-Medium-Fat-Milk/Arla-Medium-Fat-Milk_005.jpg', 'Arla-Medium-Fat-Milk/Arla-Medium-Fat-Milk_006.jpg', 'Arla-Medium-Fat-Milk/Arla-Medium-Fat-Milk_007.jpg', 'Arla-Medium-Fat-Milk/Arla-Medium-Fat-Milk_008.jpg', 'Arla-Medium-Fat-Milk/Arla-Medium-Fat-Milk_009.jpg', 'Arla-Medium-Fat-Milk/Arla-Medium-Fat-Milk_010.jpg', 'Arla-Medium-Fat-Milk/Arla-Medium-Fat-Milk_011.jpg', 'Arla-Medium-Fat-Milk/Arla-Medium-Fat-Milk_012.jpg', 'Arla-Medium-Fat-Milk/Arla-Medium-Fat-Milk_013.jpg', 'Arla-Medium-Fat-Milk/Arla-Medium-Fat-Milk_014.jpg', 'Arla-Medium-Fat-Milk/Arla-Medium-Fat-Milk_015.jpg', 'Arla-Medium-Fat-Milk/Arla-Medium-Fat-Milk_016.jpg', 'Arla-Medium-Fat-Milk/Arla-Medium-Fat-Milk_017.jpg', 'Arla-Medium-Fat-Milk/Arla-Medium-Fat-Milk_018.jpg', 'Arla-Medium-Fat-Milk/Arla-Medium-Fat-Milk_019.jpg', 'Arla-Medium-Fat-Milk/Arla-Medium-Fat-Milk_020.jpg', 'Arla-Medium-Fat-Milk/Arla-Medium-Fat-Milk_021.jpg', 'Arla-Medium-Fat-Milk/Arla-Medium-Fat-Milk_022.jpg', 'Arla-Medium-Fat-Milk/Arla-Medium-Fat-Milk_023.jpg', 'Arla-Medium-Fat-Milk/Arla-Medium-Fat-Milk_024.jpg', 'Arla-Medium-Fat-Milk/Arla-Medium-Fat-Milk_025.jpg', 'Arla-Medium-Fat-Milk/Arla-Medium-Fat-Milk_026.jpg', 'Arla-Medium-Fat-Milk/Arla-Medium-Fat-Milk_027.jpg', 'Arla-Medium-Fat-Milk/Arla-Medium-Fat-Milk_028.jpg', 'Arla-Medium-Fat-Milk/Arla-Medium-Fat-Milk_029.jpg', 'Arla-Medium-Fat-Milk/Arla-Medium-Fat-Milk_030.jpg', 'Arla-Medium-Fat-Milk/Arla-Medium-Fat-Milk_031.jpg', 'Arla-Medium-Fat-Milk/Arla-Medium-Fat-Milk_032.jpg', 'Arla-Medium-Fat-Milk/Arla-Medium-Fat-Milk_033.jpg', 'Arla-Medium-Fat-Milk/Arla-Medium-Fat-Milk_034.jpg', 'Arla-Mild-Vanilla-Yoghurt/Arla-Mild-Vanilla-Yoghurt_001.jpg', 'Arla-Mild-Vanilla-Yoghurt/Arla-Mild-Vanilla-Yoghurt_002.jpg', 'Arla-Mild-Vanilla-Yoghurt/Arla-Mild-Vanilla-Yoghurt_003.jpg', 'Arla-Mild-Vanilla-Yoghurt/Arla-Mild-Vanilla-Yoghurt_004.jpg', 'Arla-Mild-Vanilla-Yoghurt/Arla-Mild-Vanilla-Yoghurt_005.jpg', 'Arla-Mild-Vanilla-Yoghurt/Arla-Mild-Vanilla-Yoghurt_006.jpg', 'Arla-Mild-Vanilla-Yoghurt/Arla-Mild-Vanilla-Yoghurt_007.jpg', 'Arla-Mild-Vanilla-Yoghurt/Arla-Mild-Vanilla-Yoghurt_008.jpg', 'Arla-Mild-Vanilla-Yoghurt/Arla-Mild-Vanilla-Yoghurt_009.jpg', 'Arla-Mild-Vanilla-Yoghurt/Arla-Mild-Vanilla-Yoghurt_010.jpg', 'Arla-Mild-Vanilla-Yoghurt/Arla-Mild-Vanilla-Yoghurt_011.jpg', 'Arla-Mild-Vanilla-Yoghurt/Arla-Mild-Vanilla-Yoghurt_012.jpg', 'Arla-Mild-Vanilla-Yoghurt/Arla-Mild-Vanilla-Yoghurt_013.jpg', 'Arla-Mild-Vanilla-Yoghurt/Arla-Mild-Vanilla-Yoghurt_014.jpg', 'Arla-Mild-Vanilla-Yoghurt/Arla-Mild-Vanilla-Yoghurt_015.jpg', 'Arla-Mild-Vanilla-Yoghurt/Arla-Mild-Vanilla-Yoghurt_016.jpg', 'Arla-Mild-Vanilla-Yoghurt/Arla-Mild-Vanilla-Yoghurt_017.jpg', 'Arla-Mild-Vanilla-Yoghurt/Arla-Mild-Vanilla-Yoghurt_018.jpg', 'Arla-Mild-Vanilla-Yoghurt/Arla-Mild-Vanilla-Yoghurt_019.jpg', 'Arla-Mild-Vanilla-Yoghurt/Arla-Mild-Vanilla-Yoghurt_020.jpg', 'Arla-Mild-Vanilla-Yoghurt/Arla-Mild-Vanilla-Yoghurt_021.jpg', 'Arla-Mild-Vanilla-Yoghurt/Arla-Mild-Vanilla-Yoghurt_022.jpg', 'Arla-Mild-Vanilla-Yoghurt/Arla-Mild-Vanilla-Yoghurt_023.jpg', 'Arla-Mild-Vanilla-Yoghurt/Arla-Mild-Vanilla-Yoghurt_024.jpg', 'Arla-Mild-Vanilla-Yoghurt/Arla-Mild-Vanilla-Yoghurt_025.jpg', 'Arla-Mild-Vanilla-Yoghurt/Arla-Mild-Vanilla-Yoghurt_026.jpg', 'Arla-Mild-Vanilla-Yoghurt/Arla-Mild-Vanilla-Yoghurt_027.jpg', 'Arla-Natural-Mild-Low-Fat-Yoghurt/Arla-Natural-Mild-Low-Fat-Yoghurt_001.jpg', 'Arla-Natural-Mild-Low-Fat-Yoghurt/Arla-Natural-Mild-Low-Fat-Yoghurt_002.jpg', 'Arla-Natural-Mild-Low-Fat-Yoghurt/Arla-Natural-Mild-Low-Fat-Yoghurt_003.jpg', 'Arla-Natural-Mild-Low-Fat-Yoghurt/Arla-Natural-Mild-Low-Fat-Yoghurt_004.jpg', 'Arla-Natural-Mild-Low-Fat-Yoghurt/Arla-Natural-Mild-Low-Fat-Yoghurt_005.jpg', 'Arla-Natural-Mild-Low-Fat-Yoghurt/Arla-Natural-Mild-Low-Fat-Yoghurt_006.jpg', 'Arla-Natural-Mild-Low-Fat-Yoghurt/Arla-Natural-Mild-Low-Fat-Yoghurt_007.jpg', 'Arla-Natural-Mild-Low-Fat-Yoghurt/Arla-Natural-Mild-Low-Fat-Yoghurt_008.jpg', 'Arla-Natural-Mild-Low-Fat-Yoghurt/Arla-Natural-Mild-Low-Fat-Yoghurt_009.jpg', 'Arla-Natural-Mild-Low-Fat-Yoghurt/Arla-Natural-Mild-Low-Fat-Yoghurt_010.jpg', 'Arla-Natural-Mild-Low-Fat-Yoghurt/Arla-Natural-Mild-Low-Fat-Yoghurt_011.jpg', 'Arla-Natural-Mild-Low-Fat-Yoghurt/Arla-Natural-Mild-Low-Fat-Yoghurt_012.jpg', 'Arla-Natural-Mild-Low-Fat-Yoghurt/Arla-Natural-Mild-Low-Fat-Yoghurt_013.jpg', 'Arla-Natural-Mild-Low-Fat-Yoghurt/Arla-Natural-Mild-Low-Fat-Yoghurt_014.jpg', 'Arla-Natural-Mild-Low-Fat-Yoghurt/Arla-Natural-Mild-Low-Fat-Yoghurt_015.jpg', 'Arla-Natural-Mild-Low-Fat-Yoghurt/Arla-Natural-Mild-Low-Fat-Yoghurt_016.jpg', 'Arla-Natural-Mild-Low-Fat-Yoghurt/Arla-Natural-Mild-Low-Fat-Yoghurt_017.jpg', 'Arla-Natural-Mild-Low-Fat-Yoghurt/Arla-Natural-Mild-Low-Fat-Yoghurt_018.jpg', 'Arla-Natural-Mild-Low-Fat-Yoghurt/Arla-Natural-Mild-Low-Fat-Yoghurt_019.jpg', 'Arla-Natural-Mild-Low-Fat-Yoghurt/Arla-Natural-Mild-Low-Fat-Yoghurt_020.jpg', 'Arla-Natural-Mild-Low-Fat-Yoghurt/Arla-Natural-Mild-Low-Fat-Yoghurt_021.jpg', 'Arla-Natural-Mild-Low-Fat-Yoghurt/Arla-Natural-Mild-Low-Fat-Yoghurt_022.jpg', 'Arla-Natural-Mild-Low-Fat-Yoghurt/Arla-Natural-Mild-Low-Fat-Yoghurt_023.jpg', 'Arla-Natural-Yoghurt/Arla-Natural-Yoghurt_001.jpg', 'Arla-Natural-Yoghurt/Arla-Natural-Yoghurt_002.jpg', 'Arla-Natural-Yoghurt/Arla-Natural-Yoghurt_003.jpg', 'Arla-Natural-Yoghurt/Arla-Natural-Yoghurt_004.jpg', 'Arla-Natural-Yoghurt/Arla-Natural-Yoghurt_005.jpg', 'Arla-Natural-Yoghurt/Arla-Natural-Yoghurt_006.jpg', 'Arla-Natural-Yoghurt/Arla-Natural-Yoghurt_007.jpg', 'Arla-Natural-Yoghurt/Arla-Natural-Yoghurt_008.jpg', 'Arla-Natural-Yoghurt/Arla-Natural-Yoghurt_009.jpg', 'Arla-Natural-Yoghurt/Arla-Natural-Yoghurt_010.jpg', 'Arla-Natural-Yoghurt/Arla-Natural-Yoghurt_011.jpg', 'Arla-Natural-Yoghurt/Arla-Natural-Yoghurt_012.jpg', 'Arla-Natural-Yoghurt/Arla-Natural-Yoghurt_013.jpg', 'Arla-Natural-Yoghurt/Arla-Natural-Yoghurt_014.jpg', 'Arla-Natural-Yoghurt/Arla-Natural-Yoghurt_015.jpg', 'Arla-Natural-Yoghurt/Arla-Natural-Yoghurt_016.jpg', 'Arla-Natural-Yoghurt/Arla-Natural-Yoghurt_017.jpg', 'Arla-Natural-Yoghurt/Arla-Natural-Yoghurt_018.jpg', 'Arla-Natural-Yoghurt/Arla-Natural-Yoghurt_019.jpg', 'Arla-Natural-Yoghurt/Arla-Natural-Yoghurt_020.jpg', 'Arla-Natural-Yoghurt/Arla-Natural-Yoghurt_021.jpg', 'Arla-Natural-Yoghurt/Arla-Natural-Yoghurt_022.jpg', 'Arla-Natural-Yoghurt/Arla-Natural-Yoghurt_023.jpg', 'Arla-Natural-Yoghurt/Arla-Natural-Yoghurt_024.jpg', 'Arla-Natural-Yoghurt/Arla-Natural-Yoghurt_025.jpg', 'Arla-Natural-Yoghurt/Arla-Natural-Yoghurt_026.jpg', 'Arla-Natural-Yoghurt/Arla-Natural-Yoghurt_027.jpg', 'Arla-Natural-Yoghurt/Arla-Natural-Yoghurt_028.jpg', 'Arla-Natural-Yoghurt/Arla-Natural-Yoghurt_029.jpg', 'Arla-Natural-Yoghurt/Arla-Natural-Yoghurt_030.jpg', 'Arla-Natural-Yoghurt/Arla-Natural-Yoghurt_031.jpg', 'Arla-Natural-Yoghurt/Arla-Natural-Yoghurt_032.jpg', 'Arla-Natural-Yoghurt/Arla-Natural-Yoghurt_033.jpg', 'Arla-Natural-Yoghurt/Arla-Natural-Yoghurt_034.jpg', 'Arla-Natural-Yoghurt/Arla-Natural-Yoghurt_035.jpg', 'Arla-Natural-Yoghurt/Arla-Natural-Yoghurt_036.jpg', 'Arla-Natural-Yoghurt/Arla-Natural-Yoghurt_037.jpg', 'Arla-Natural-Yoghurt/Arla-Natural-Yoghurt_038.jpg', 'Arla-Natural-Yoghurt/Arla-Natural-Yoghurt_039.jpg', 'Arla-Natural-Yoghurt/Arla-Natural-Yoghurt_040.jpg', 'Arla-Natural-Yoghurt/Arla-Natural-Yoghurt_041.jpg', 'Arla-Sour-Cream/Arla-Sour-Cream_001.jpg', 'Arla-Sour-Cream/Arla-Sour-Cream_002.jpg', 'Arla-Sour-Cream/Arla-Sour-Cream_003.jpg', 'Arla-Sour-Cream/Arla-Sour-Cream_004.jpg', 'Arla-Sour-Cream/Arla-Sour-Cream_005.jpg', 'Arla-Sour-Cream/Arla-Sour-Cream_006.jpg', 'Arla-Sour-Cream/Arla-Sour-Cream_007.jpg', 'Arla-Sour-Cream/Arla-Sour-Cream_008.jpg', 'Arla-Sour-Cream/Arla-Sour-Cream_009.jpg', 'Arla-Sour-Cream/Arla-Sour-Cream_010.jpg', 'Arla-Sour-Cream/Arla-Sour-Cream_011.jpg', 'Arla-Sour-Cream/Arla-Sour-Cream_012.jpg', 'Arla-Sour-Cream/Arla-Sour-Cream_013.jpg', 'Arla-Sour-Cream/Arla-Sour-Cream_014.jpg', 'Arla-Sour-Cream/Arla-Sour-Cream_015.jpg', 'Arla-Sour-Cream/Arla-Sour-Cream_016.jpg', 'Arla-Sour-Cream/Arla-Sour-Cream_017.jpg', 'Arla-Sour-Cream/Arla-Sour-Cream_018.jpg', 'Arla-Sour-Milk/Arla-Sour-Milk_001.jpg', 'Arla-Sour-Milk/Arla-Sour-Milk_002.jpg', 'Arla-Sour-Milk/Arla-Sour-Milk_003.jpg', 'Arla-Sour-Milk/Arla-Sour-Milk_004.jpg', 'Arla-Sour-Milk/Arla-Sour-Milk_005.jpg', 'Arla-Sour-Milk/Arla-Sour-Milk_006.jpg', 'Arla-Sour-Milk/Arla-Sour-Milk_007.jpg', 'Arla-Sour-Milk/Arla-Sour-Milk_008.jpg', 'Arla-Sour-Milk/Arla-Sour-Milk_009.jpg', 'Arla-Sour-Milk/Arla-Sour-Milk_010.jpg', 'Arla-Sour-Milk/Arla-Sour-Milk_011.jpg', 'Arla-Sour-Milk/Arla-Sour-Milk_012.jpg', 'Arla-Sour-Milk/Arla-Sour-Milk_013.jpg', 'Arla-Sour-Milk/Arla-Sour-Milk_014.jpg', 'Arla-Sour-Milk/Arla-Sour-Milk_015.jpg', 'Arla-Sour-Milk/Arla-Sour-Milk_016.jpg', 'Arla-Sour-Milk/Arla-Sour-Milk_017.jpg', 'Arla-Sour-Milk/Arla-Sour-Milk_018.jpg', 'Arla-Sour-Milk/Arla-Sour-Milk_019.jpg', 'Arla-Standard-Milk/Arla-Standard-Milk_001.jpg', 'Arla-Standard-Milk/Arla-Standard-Milk_002.jpg', 'Arla-Standard-Milk/Arla-Standard-Milk_003.jpg', 'Arla-Standard-Milk/Arla-Standard-Milk_004.jpg', 'Arla-Standard-Milk/Arla-Standard-Milk_005.jpg', 'Arla-Standard-Milk/Arla-Standard-Milk_006.jpg', 'Arla-Standard-Milk/Arla-Standard-Milk_007.jpg', 'Arla-Standard-Milk/Arla-Standard-Milk_008.jpg', 'Arla-Standard-Milk/Arla-Standard-Milk_009.jpg', 'Arla-Standard-Milk/Arla-Standard-Milk_010.jpg', 'Arla-Standard-Milk/Arla-Standard-Milk_011.jpg', 'Arla-Standard-Milk/Arla-Standard-Milk_012.jpg', 'Arla-Standard-Milk/Arla-Standard-Milk_013.jpg', 'Arla-Standard-Milk/Arla-Standard-Milk_014.jpg', 'Arla-Standard-Milk/Arla-Standard-Milk_015.jpg', 'Arla-Standard-Milk/Arla-Standard-Milk_016.jpg', 'Arla-Standard-Milk/Arla-Standard-Milk_017.jpg', 'Arla-Standard-Milk/Arla-Standard-Milk_018.jpg', 'Arla-Standard-Milk/Arla-Standard-Milk_019.jpg', 'Arla-Standard-Milk/Arla-Standard-Milk_020.jpg', 'Arla-Standard-Milk/Arla-Standard-Milk_021.jpg', 'Arla-Standard-Milk/Arla-Standard-Milk_022.jpg', 'Arla-Standard-Milk/Arla-Standard-Milk_023.jpg', 'Arla-Standard-Milk/Arla-Standard-Milk_024.jpg', 'Arla-Standard-Milk/Arla-Standard-Milk_025.jpg', 'Arla-Standard-Milk/Arla-Standard-Milk_026.jpg', 'Arla-Standard-Milk/Arla-Standard-Milk_027.jpg', 'Arla-Standard-Milk/Arla-Standard-Milk_028.jpg', 'Arla-Standard-Milk/Arla-Standard-Milk_029.jpg', 'Arla-Standard-Milk/Arla-Standard-Milk_030.jpg', 'Bravo-Apple-Juice/Bravo-Apple-Juice_001.jpg', 'Bravo-Apple-Juice/Bravo-Apple-Juice_002.jpg', 'Bravo-Apple-Juice/Bravo-Apple-Juice_003.jpg', 'Bravo-Apple-Juice/Bravo-Apple-Juice_004.jpg', 'Bravo-Apple-Juice/Bravo-Apple-Juice_005.jpg', 'Bravo-Apple-Juice/Bravo-Apple-Juice_006.jpg', 'Bravo-Apple-Juice/Bravo-Apple-Juice_007.jpg', 'Bravo-Apple-Juice/Bravo-Apple-Juice_008.jpg', 'Bravo-Apple-Juice/Bravo-Apple-Juice_009.jpg', 'Bravo-Apple-Juice/Bravo-Apple-Juice_010.jpg', 'Bravo-Apple-Juice/Bravo-Apple-Juice_011.jpg', 'Bravo-Apple-Juice/Bravo-Apple-Juice_012.jpg', 'Bravo-Apple-Juice/Bravo-Apple-Juice_013.jpg', 'Bravo-Apple-Juice/Bravo-Apple-Juice_014.jpg', 'Bravo-Apple-Juice/Bravo-Apple-Juice_015.jpg', 'Bravo-Apple-Juice/Bravo-Apple-Juice_016.jpg', 'Bravo-Apple-Juice/Bravo-Apple-Juice_017.jpg', 'Bravo-Apple-Juice/Bravo-Apple-Juice_018.jpg', 'Bravo-Apple-Juice/Bravo-Apple-Juice_019.jpg', 'Bravo-Apple-Juice/Bravo-Apple-Juice_020.jpg', 'Bravo-Apple-Juice/Bravo-Apple-Juice_021.jpg', 'Bravo-Apple-Juice/Bravo-Apple-Juice_022.jpg', 'Bravo-Apple-Juice/Bravo-Apple-Juice_023.jpg', 'Bravo-Orange-Juice/Bravo-Orange-Juice_001.jpg', 'Bravo-Orange-Juice/Bravo-Orange-Juice_002.jpg', 'Bravo-Orange-Juice/Bravo-Orange-Juice_003.jpg', 'Bravo-Orange-Juice/Bravo-Orange-Juice_004.jpg', 'Bravo-Orange-Juice/Bravo-Orange-Juice_005.jpg', 'Bravo-Orange-Juice/Bravo-Orange-Juice_006.jpg', 'Bravo-Orange-Juice/Bravo-Orange-Juice_007.jpg', 'Bravo-Orange-Juice/Bravo-Orange-Juice_008.jpg', 'Bravo-Orange-Juice/Bravo-Orange-Juice_009.jpg', 'Bravo-Orange-Juice/Bravo-Orange-Juice_010.jpg', 'Bravo-Orange-Juice/Bravo-Orange-Juice_011.jpg', 'Bravo-Orange-Juice/Bravo-Orange-Juice_012.jpg', 'Bravo-Orange-Juice/Bravo-Orange-Juice_013.jpg', 'Bravo-Orange-Juice/Bravo-Orange-Juice_014.jpg', 'Bravo-Orange-Juice/Bravo-Orange-Juice_015.jpg', 'Bravo-Orange-Juice/Bravo-Orange-Juice_016.jpg', 'Bravo-Orange-Juice/Bravo-Orange-Juice_017.jpg', 'Bravo-Orange-Juice/Bravo-Orange-Juice_018.jpg', 'Bravo-Orange-Juice/Bravo-Orange-Juice_019.jpg', 'Bravo-Orange-Juice/Bravo-Orange-Juice_020.jpg', 'Bravo-Orange-Juice/Bravo-Orange-Juice_021.jpg', 'Bravo-Orange-Juice/Bravo-Orange-Juice_022.jpg', 'Bravo-Orange-Juice/Bravo-Orange-Juice_023.jpg', 'Bravo-Orange-Juice/Bravo-Orange-Juice_024.jpg', 'Bravo-Orange-Juice/Bravo-Orange-Juice_025.jpg', 'Bravo-Orange-Juice/Bravo-Orange-Juice_026.jpg', 'Bravo-Orange-Juice/Bravo-Orange-Juice_027.jpg', 'Bravo-Orange-Juice/Bravo-Orange-Juice_028.jpg', 'Bravo-Orange-Juice/Bravo-Orange-Juice_029.jpg', 'Bravo-Orange-Juice/Bravo-Orange-Juice_030.jpg', 'Bravo-Orange-Juice/Bravo-Orange-Juice_031.jpg', 'Garant-Ecological-Medium-Fat-Milk/Garant-Ecological-Medium-Fat-Milk_001.jpg', 'Garant-Ecological-Medium-Fat-Milk/Garant-Ecological-Medium-Fat-Milk_002.jpg', 'Garant-Ecological-Medium-Fat-Milk/Garant-Ecological-Medium-Fat-Milk_003.jpg', 'Garant-Ecological-Medium-Fat-Milk/Garant-Ecological-Medium-Fat-Milk_004.jpg', 'Garant-Ecological-Medium-Fat-Milk/Garant-Ecological-Medium-Fat-Milk_005.jpg', 'Garant-Ecological-Medium-Fat-Milk/Garant-Ecological-Medium-Fat-Milk_006.jpg', 'Garant-Ecological-Medium-Fat-Milk/Garant-Ecological-Medium-Fat-Milk_007.jpg', 'Garant-Ecological-Medium-Fat-Milk/Garant-Ecological-Medium-Fat-Milk_008.jpg', 'Garant-Ecological-Medium-Fat-Milk/Garant-Ecological-Medium-Fat-Milk_009.jpg', 'Garant-Ecological-Medium-Fat-Milk/Garant-Ecological-Medium-Fat-Milk_010.jpg', 'Garant-Ecological-Medium-Fat-Milk/Garant-Ecological-Medium-Fat-Milk_011.jpg', 'Garant-Ecological-Medium-Fat-Milk/Garant-Ecological-Medium-Fat-Milk_012.jpg', 'Garant-Ecological-Medium-Fat-Milk/Garant-Ecological-Medium-Fat-Milk_013.jpg', 'Garant-Ecological-Medium-Fat-Milk/Garant-Ecological-Medium-Fat-Milk_014.jpg', 'Garant-Ecological-Medium-Fat-Milk/Garant-Ecological-Medium-Fat-Milk_015.jpg', 'Garant-Ecological-Medium-Fat-Milk/Garant-Ecological-Medium-Fat-Milk_016.jpg', 'Garant-Ecological-Medium-Fat-Milk/Garant-Ecological-Medium-Fat-Milk_017.jpg', 'Garant-Ecological-Medium-Fat-Milk/Garant-Ecological-Medium-Fat-Milk_018.jpg', 'Garant-Ecological-Medium-Fat-Milk/Garant-Ecological-Medium-Fat-Milk_019.jpg', 'Garant-Ecological-Medium-Fat-Milk/Garant-Ecological-Medium-Fat-Milk_020.jpg', 'Garant-Ecological-Medium-Fat-Milk/Garant-Ecological-Medium-Fat-Milk_021.jpg', 'Garant-Ecological-Medium-Fat-Milk/Garant-Ecological-Medium-Fat-Milk_022.jpg', 'Garant-Ecological-Medium-Fat-Milk/Garant-Ecological-Medium-Fat-Milk_023.jpg', 'Garant-Ecological-Medium-Fat-Milk/Garant-Ecological-Medium-Fat-Milk_024.jpg', 'Garant-Ecological-Medium-Fat-Milk/Garant-Ecological-Medium-Fat-Milk_025.jpg', 'Garant-Ecological-Medium-Fat-Milk/Garant-Ecological-Medium-Fat-Milk_026.jpg', 'Garant-Ecological-Medium-Fat-Milk/Garant-Ecological-Medium-Fat-Milk_027.jpg', 'Garant-Ecological-Medium-Fat-Milk/Garant-Ecological-Medium-Fat-Milk_028.jpg', 'Garant-Ecological-Medium-Fat-Milk/Garant-Ecological-Medium-Fat-Milk_029.jpg', 'Garant-Ecological-Medium-Fat-Milk/Garant-Ecological-Medium-Fat-Milk_030.jpg', 'Garant-Ecological-Medium-Fat-Milk/Garant-Ecological-Medium-Fat-Milk_031.jpg', 'Garant-Ecological-Medium-Fat-Milk/Garant-Ecological-Medium-Fat-Milk_032.jpg', 'Garant-Ecological-Medium-Fat-Milk/Garant-Ecological-Medium-Fat-Milk_033.jpg', 'Garant-Ecological-Medium-Fat-Milk/Garant-Ecological-Medium-Fat-Milk_034.jpg', 'Garant-Ecological-Medium-Fat-Milk/Garant-Ecological-Medium-Fat-Milk_035.jpg', 'Garant-Ecological-Standard-Milk/Garant-Ecological-Standard-Milk_001.jpg', 'Garant-Ecological-Standard-Milk/Garant-Ecological-Standard-Milk_002.jpg', 'Garant-Ecological-Standard-Milk/Garant-Ecological-Standard-Milk_003.jpg', 'Garant-Ecological-Standard-Milk/Garant-Ecological-Standard-Milk_004.jpg', 'Garant-Ecological-Standard-Milk/Garant-Ecological-Standard-Milk_005.jpg', 'Garant-Ecological-Standard-Milk/Garant-Ecological-Standard-Milk_006.jpg', 'Garant-Ecological-Standard-Milk/Garant-Ecological-Standard-Milk_007.jpg', 'Garant-Ecological-Standard-Milk/Garant-Ecological-Standard-Milk_008.jpg', 'Garant-Ecological-Standard-Milk/Garant-Ecological-Standard-Milk_009.jpg', 'Garant-Ecological-Standard-Milk/Garant-Ecological-Standard-Milk_010.jpg', 'Garant-Ecological-Standard-Milk/Garant-Ecological-Standard-Milk_011.jpg', 'God-Morgon-Apple-Juice/God-Morgon-Apple-Juice_001.jpg', 'God-Morgon-Apple-Juice/God-Morgon-Apple-Juice_002.jpg', 'God-Morgon-Apple-Juice/God-Morgon-Apple-Juice_003.jpg', 'God-Morgon-Apple-Juice/God-Morgon-Apple-Juice_004.jpg', 'God-Morgon-Apple-Juice/God-Morgon-Apple-Juice_005.jpg', 'God-Morgon-Apple-Juice/God-Morgon-Apple-Juice_006.jpg', 'God-Morgon-Apple-Juice/God-Morgon-Apple-Juice_007.jpg', 'God-Morgon-Apple-Juice/God-Morgon-Apple-Juice_008.jpg', 'God-Morgon-Apple-Juice/God-Morgon-Apple-Juice_009.jpg', 'God-Morgon-Apple-Juice/God-Morgon-Apple-Juice_010.jpg', 'God-Morgon-Apple-Juice/God-Morgon-Apple-Juice_011.jpg', 'God-Morgon-Apple-Juice/God-Morgon-Apple-Juice_012.jpg', 'God-Morgon-Apple-Juice/God-Morgon-Apple-Juice_013.jpg', 'God-Morgon-Apple-Juice/God-Morgon-Apple-Juice_014.jpg', 'God-Morgon-Apple-Juice/God-Morgon-Apple-Juice_015.jpg', 'God-Morgon-Apple-Juice/God-Morgon-Apple-Juice_016.jpg', 'God-Morgon-Apple-Juice/God-Morgon-Apple-Juice_017.jpg', 'God-Morgon-Apple-Juice/God-Morgon-Apple-Juice_018.jpg', 'God-Morgon-Apple-Juice/God-Morgon-Apple-Juice_019.jpg', 'God-Morgon-Orange-Juice/God-Morgon-Orange-Juice_001.jpg', 'God-Morgon-Orange-Juice/God-Morgon-Orange-Juice_002.jpg', 'God-Morgon-Orange-Juice/God-Morgon-Orange-Juice_003.jpg', 'God-Morgon-Orange-Juice/God-Morgon-Orange-Juice_004.jpg', 'God-Morgon-Orange-Juice/God-Morgon-Orange-Juice_005.jpg', 'God-Morgon-Orange-Juice/God-Morgon-Orange-Juice_006.jpg', 'God-Morgon-Orange-Juice/God-Morgon-Orange-Juice_007.jpg', 'God-Morgon-Orange-Juice/God-Morgon-Orange-Juice_008.jpg', 'God-Morgon-Orange-Juice/God-Morgon-Orange-Juice_009.jpg', 'God-Morgon-Orange-Juice/God-Morgon-Orange-Juice_010.jpg', 'God-Morgon-Orange-Juice/God-Morgon-Orange-Juice_011.jpg', 'God-Morgon-Orange-Juice/God-Morgon-Orange-Juice_012.jpg', 'God-Morgon-Orange-Juice/God-Morgon-Orange-Juice_013.jpg', 'God-Morgon-Orange-Juice/God-Morgon-Orange-Juice_014.jpg', 'God-Morgon-Orange-Juice/God-Morgon-Orange-Juice_015.jpg', 'God-Morgon-Orange-Juice/God-Morgon-Orange-Juice_016.jpg', 'God-Morgon-Orange-Juice/God-Morgon-Orange-Juice_017.jpg', 'God-Morgon-Orange-Juice/God-Morgon-Orange-Juice_018.jpg', 'God-Morgon-Orange-Juice/God-Morgon-Orange-Juice_019.jpg', 'God-Morgon-Orange-Juice/God-Morgon-Orange-Juice_020.jpg', 'God-Morgon-Orange-Juice/God-Morgon-Orange-Juice_021.jpg', 'God-Morgon-Orange-Juice/God-Morgon-Orange-Juice_022.jpg', 'God-Morgon-Orange-Red-Grapefruit-Juice/God-Morgon-Orange-Red-Grapefruit-Juice_001.jpg', 'God-Morgon-Orange-Red-Grapefruit-Juice/God-Morgon-Orange-Red-Grapefruit-Juice_002.jpg', 'God-Morgon-Orange-Red-Grapefruit-Juice/God-Morgon-Orange-Red-Grapefruit-Juice_003.jpg', 'God-Morgon-Orange-Red-Grapefruit-Juice/God-Morgon-Orange-Red-Grapefruit-Juice_004.jpg', 'God-Morgon-Orange-Red-Grapefruit-Juice/God-Morgon-Orange-Red-Grapefruit-Juice_005.jpg', 'God-Morgon-Orange-Red-Grapefruit-Juice/God-Morgon-Orange-Red-Grapefruit-Juice_006.jpg', 'God-Morgon-Orange-Red-Grapefruit-Juice/God-Morgon-Orange-Red-Grapefruit-Juice_007.jpg', 'God-Morgon-Orange-Red-Grapefruit-Juice/God-Morgon-Orange-Red-Grapefruit-Juice_008.jpg', 'God-Morgon-Orange-Red-Grapefruit-Juice/God-Morgon-Orange-Red-Grapefruit-Juice_009.jpg', 'God-Morgon-Orange-Red-Grapefruit-Juice/God-Morgon-Orange-Red-Grapefruit-Juice_010.jpg', 'God-Morgon-Orange-Red-Grapefruit-Juice/God-Morgon-Orange-Red-Grapefruit-Juice_011.jpg', 'God-Morgon-Orange-Red-Grapefruit-Juice/God-Morgon-Orange-Red-Grapefruit-Juice_012.jpg', 'God-Morgon-Orange-Red-Grapefruit-Juice/God-Morgon-Orange-Red-Grapefruit-Juice_013.jpg', 'God-Morgon-Orange-Red-Grapefruit-Juice/God-Morgon-Orange-Red-Grapefruit-Juice_014.jpg', 'God-Morgon-Orange-Red-Grapefruit-Juice/God-Morgon-Orange-Red-Grapefruit-Juice_015.jpg', 'God-Morgon-Orange-Red-Grapefruit-Juice/God-Morgon-Orange-Red-Grapefruit-Juice_016.jpg', 'God-Morgon-Orange-Red-Grapefruit-Juice/God-Morgon-Orange-Red-Grapefruit-Juice_017.jpg', 'God-Morgon-Orange-Red-Grapefruit-Juice/God-Morgon-Orange-Red-Grapefruit-Juice_018.jpg', 'God-Morgon-Orange-Red-Grapefruit-Juice/God-Morgon-Orange-Red-Grapefruit-Juice_019.jpg', 'God-Morgon-Red-Grapefruit-Juice/God-Morgon-Red-Grapefruit-Juice_001.jpg', 'God-Morgon-Red-Grapefruit-Juice/God-Morgon-Red-Grapefruit-Juice_002.jpg', 'God-Morgon-Red-Grapefruit-Juice/God-Morgon-Red-Grapefruit-Juice_003.jpg', 'God-Morgon-Red-Grapefruit-Juice/God-Morgon-Red-Grapefruit-Juice_004.jpg', 'God-Morgon-Red-Grapefruit-Juice/God-Morgon-Red-Grapefruit-Juice_005.jpg', 'God-Morgon-Red-Grapefruit-Juice/God-Morgon-Red-Grapefruit-Juice_006.jpg', 'God-Morgon-Red-Grapefruit-Juice/God-Morgon-Red-Grapefruit-Juice_007.jpg', 'God-Morgon-Red-Grapefruit-Juice/God-Morgon-Red-Grapefruit-Juice_008.jpg', 'God-Morgon-Red-Grapefruit-Juice/God-Morgon-Red-Grapefruit-Juice_009.jpg', 'God-Morgon-Red-Grapefruit-Juice/God-Morgon-Red-Grapefruit-Juice_010.jpg', 'God-Morgon-Red-Grapefruit-Juice/God-Morgon-Red-Grapefruit-Juice_011.jpg', 'God-Morgon-Red-Grapefruit-Juice/God-Morgon-Red-Grapefruit-Juice_012.jpg', 'God-Morgon-Red-Grapefruit-Juice/God-Morgon-Red-Grapefruit-Juice_013.jpg', 'God-Morgon-Red-Grapefruit-Juice/God-Morgon-Red-Grapefruit-Juice_014.jpg', 'Oatly-Natural-Oatghurt/Oatly-Natural-Oatghurt_001.jpg', 'Oatly-Natural-Oatghurt/Oatly-Natural-Oatghurt_002.jpg', 'Oatly-Natural-Oatghurt/Oatly-Natural-Oatghurt_003.jpg', 'Oatly-Natural-Oatghurt/Oatly-Natural-Oatghurt_004.jpg', 'Oatly-Natural-Oatghurt/Oatly-Natural-Oatghurt_005.jpg', 'Oatly-Natural-Oatghurt/Oatly-Natural-Oatghurt_006.jpg', 'Oatly-Natural-Oatghurt/Oatly-Natural-Oatghurt_007.jpg', 'Oatly-Natural-Oatghurt/Oatly-Natural-Oatghurt_008.jpg', 'Oatly-Natural-Oatghurt/Oatly-Natural-Oatghurt_009.jpg', 'Oatly-Natural-Oatghurt/Oatly-Natural-Oatghurt_010.jpg', 'Oatly-Natural-Oatghurt/Oatly-Natural-Oatghurt_011.jpg', 'Oatly-Natural-Oatghurt/Oatly-Natural-Oatghurt_012.jpg', 'Oatly-Natural-Oatghurt/Oatly-Natural-Oatghurt_013.jpg', 'Oatly-Natural-Oatghurt/Oatly-Natural-Oatghurt_014.jpg', 'Oatly-Natural-Oatghurt/Oatly-Natural-Oatghurt_015.jpg', 'Oatly-Natural-Oatghurt/Oatly-Natural-Oatghurt_016.jpg', 'Oatly-Natural-Oatghurt/Oatly-Natural-Oatghurt_017.jpg', 'Oatly-Natural-Oatghurt/Oatly-Natural-Oatghurt_018.jpg', 'Oatly-Natural-Oatghurt/Oatly-Natural-Oatghurt_019.jpg', 'Oatly-Natural-Oatghurt/Oatly-Natural-Oatghurt_020.jpg', 'Oatly-Natural-Oatghurt/Oatly-Natural-Oatghurt_021.jpg', 'Oatly-Natural-Oatghurt/Oatly-Natural-Oatghurt_022.jpg', 'Oatly-Natural-Oatghurt/Oatly-Natural-Oatghurt_023.jpg', 'Oatly-Natural-Oatghurt/Oatly-Natural-Oatghurt_024.jpg', 'Oatly-Natural-Oatghurt/Oatly-Natural-Oatghurt_025.jpg', 'Oatly-Natural-Oatghurt/Oatly-Natural-Oatghurt_026.jpg', 'Oatly-Natural-Oatghurt/Oatly-Natural-Oatghurt_027.jpg', 'Oatly-Natural-Oatghurt/Oatly-Natural-Oatghurt_028.jpg', 'Oatly-Natural-Oatghurt/Oatly-Natural-Oatghurt_029.jpg', 'Oatly-Natural-Oatghurt/Oatly-Natural-Oatghurt_030.jpg', 'Oatly-Oat-Milk/Oatly-Oat-Milk_001.jpg', 'Oatly-Oat-Milk/Oatly-Oat-Milk_002.jpg', 'Oatly-Oat-Milk/Oatly-Oat-Milk_003.jpg', 'Oatly-Oat-Milk/Oatly-Oat-Milk_004.jpg', 'Oatly-Oat-Milk/Oatly-Oat-Milk_005.jpg', 'Oatly-Oat-Milk/Oatly-Oat-Milk_006.jpg', 'Oatly-Oat-Milk/Oatly-Oat-Milk_007.jpg', 'Oatly-Oat-Milk/Oatly-Oat-Milk_008.jpg', 'Oatly-Oat-Milk/Oatly-Oat-Milk_009.jpg', 'Oatly-Oat-Milk/Oatly-Oat-Milk_010.jpg', 'Oatly-Oat-Milk/Oatly-Oat-Milk_011.jpg', 'Oatly-Oat-Milk/Oatly-Oat-Milk_012.jpg', 'Oatly-Oat-Milk/Oatly-Oat-Milk_013.jpg', 'Oatly-Oat-Milk/Oatly-Oat-Milk_014.jpg', 'Oatly-Oat-Milk/Oatly-Oat-Milk_015.jpg', 'Oatly-Oat-Milk/Oatly-Oat-Milk_016.jpg', 'Oatly-Oat-Milk/Oatly-Oat-Milk_017.jpg', 'Oatly-Oat-Milk/Oatly-Oat-Milk_018.jpg', 'Oatly-Oat-Milk/Oatly-Oat-Milk_019.jpg', 'Oatly-Oat-Milk/Oatly-Oat-Milk_020.jpg', 'Oatly-Oat-Milk/Oatly-Oat-Milk_021.jpg', 'Oatly-Oat-Milk/Oatly-Oat-Milk_022.jpg', 'Oatly-Oat-Milk/Oatly-Oat-Milk_023.jpg', 'Oatly-Oat-Milk/Oatly-Oat-Milk_024.jpg', 'Oatly-Oat-Milk/Oatly-Oat-Milk_025.jpg', 'Oatly-Oat-Milk/Oatly-Oat-Milk_026.jpg', 'Oatly-Oat-Milk/Oatly-Oat-Milk_027.jpg', 'Oatly-Oat-Milk/Oatly-Oat-Milk_028.jpg', 'Oatly-Oat-Milk/Oatly-Oat-Milk_029.jpg', 'Oatly-Oat-Milk/Oatly-Oat-Milk_030.jpg', 'Oatly-Oat-Milk/Oatly-Oat-Milk_031.jpg', 'Tropicana-Apple-Juice/Tropicana-Apple-Juice_001.jpg', 'Tropicana-Apple-Juice/Tropicana-Apple-Juice_002.jpg', 'Tropicana-Apple-Juice/Tropicana-Apple-Juice_003.jpg', 'Tropicana-Apple-Juice/Tropicana-Apple-Juice_004.jpg', 'Tropicana-Apple-Juice/Tropicana-Apple-Juice_005.jpg', 'Tropicana-Apple-Juice/Tropicana-Apple-Juice_006.jpg', 'Tropicana-Apple-Juice/Tropicana-Apple-Juice_007.jpg', 'Tropicana-Apple-Juice/Tropicana-Apple-Juice_008.jpg', 'Tropicana-Apple-Juice/Tropicana-Apple-Juice_009.jpg', 'Tropicana-Apple-Juice/Tropicana-Apple-Juice_010.jpg', 'Tropicana-Apple-Juice/Tropicana-Apple-Juice_011.jpg', 'Tropicana-Apple-Juice/Tropicana-Apple-Juice_012.jpg', 'Tropicana-Apple-Juice/Tropicana-Apple-Juice_013.jpg', 'Tropicana-Apple-Juice/Tropicana-Apple-Juice_014.jpg', 'Tropicana-Apple-Juice/Tropicana-Apple-Juice_015.jpg', 'Tropicana-Apple-Juice/Tropicana-Apple-Juice_016.jpg', 'Tropicana-Apple-Juice/Tropicana-Apple-Juice_017.jpg', 'Tropicana-Apple-Juice/Tropicana-Apple-Juice_018.jpg', 'Tropicana-Apple-Juice/Tropicana-Apple-Juice_019.jpg', 'Tropicana-Apple-Juice/Tropicana-Apple-Juice_020.jpg', 'Tropicana-Apple-Juice/Tropicana-Apple-Juice_021.jpg', 'Tropicana-Apple-Juice/Tropicana-Apple-Juice_022.jpg', 'Tropicana-Apple-Juice/Tropicana-Apple-Juice_023.jpg', 'Tropicana-Apple-Juice/Tropicana-Apple-Juice_024.jpg', 'Tropicana-Apple-Juice/Tropicana-Apple-Juice_025.jpg', 'Tropicana-Apple-Juice/Tropicana-Apple-Juice_026.jpg', 'Tropicana-Apple-Juice/Tropicana-Apple-Juice_027.jpg', 'Tropicana-Apple-Juice/Tropicana-Apple-Juice_028.jpg', 'Tropicana-Golden-Grapefruit/Tropicana-Golden-Grapefruit_001.jpg', 'Tropicana-Golden-Grapefruit/Tropicana-Golden-Grapefruit_002.jpg', 'Tropicana-Golden-Grapefruit/Tropicana-Golden-Grapefruit_003.jpg', 'Tropicana-Golden-Grapefruit/Tropicana-Golden-Grapefruit_004.jpg', 'Tropicana-Golden-Grapefruit/Tropicana-Golden-Grapefruit_005.jpg', 'Tropicana-Golden-Grapefruit/Tropicana-Golden-Grapefruit_006.jpg', 'Tropicana-Golden-Grapefruit/Tropicana-Golden-Grapefruit_007.jpg', 'Tropicana-Golden-Grapefruit/Tropicana-Golden-Grapefruit_008.jpg', 'Tropicana-Golden-Grapefruit/Tropicana-Golden-Grapefruit_009.jpg', 'Tropicana-Golden-Grapefruit/Tropicana-Golden-Grapefruit_010.jpg', 'Tropicana-Golden-Grapefruit/Tropicana-Golden-Grapefruit_011.jpg', 'Tropicana-Golden-Grapefruit/Tropicana-Golden-Grapefruit_012.jpg', 'Tropicana-Golden-Grapefruit/Tropicana-Golden-Grapefruit_013.jpg', 'Tropicana-Golden-Grapefruit/Tropicana-Golden-Grapefruit_014.jpg', 'Tropicana-Golden-Grapefruit/Tropicana-Golden-Grapefruit_015.jpg', 'Tropicana-Golden-Grapefruit/Tropicana-Golden-Grapefruit_016.jpg', 'Tropicana-Golden-Grapefruit/Tropicana-Golden-Grapefruit_017.jpg', 'Tropicana-Golden-Grapefruit/Tropicana-Golden-Grapefruit_018.jpg', 'Tropicana-Golden-Grapefruit/Tropicana-Golden-Grapefruit_019.jpg', 'Tropicana-Juice-Smooth/Tropicana-Juice-Smooth_001.jpg', 'Tropicana-Juice-Smooth/Tropicana-Juice-Smooth_002.jpg', 'Tropicana-Juice-Smooth/Tropicana-Juice-Smooth_003.jpg', 'Tropicana-Juice-Smooth/Tropicana-Juice-Smooth_004.jpg', 'Tropicana-Juice-Smooth/Tropicana-Juice-Smooth_005.jpg', 'Tropicana-Juice-Smooth/Tropicana-Juice-Smooth_006.jpg', 'Tropicana-Juice-Smooth/Tropicana-Juice-Smooth_007.jpg', 'Tropicana-Juice-Smooth/Tropicana-Juice-Smooth_008.jpg', 'Tropicana-Juice-Smooth/Tropicana-Juice-Smooth_009.jpg', 'Tropicana-Juice-Smooth/Tropicana-Juice-Smooth_010.jpg', 'Tropicana-Juice-Smooth/Tropicana-Juice-Smooth_011.jpg', 'Tropicana-Juice-Smooth/Tropicana-Juice-Smooth_012.jpg', 'Tropicana-Juice-Smooth/Tropicana-Juice-Smooth_013.jpg', 'Tropicana-Juice-Smooth/Tropicana-Juice-Smooth_014.jpg', 'Tropicana-Juice-Smooth/Tropicana-Juice-Smooth_015.jpg', 'Tropicana-Juice-Smooth/Tropicana-Juice-Smooth_016.jpg', 'Tropicana-Juice-Smooth/Tropicana-Juice-Smooth_017.jpg', 'Tropicana-Juice-Smooth/Tropicana-Juice-Smooth_018.jpg', 'Tropicana-Juice-Smooth/Tropicana-Juice-Smooth_019.jpg', 'Tropicana-Juice-Smooth/Tropicana-Juice-Smooth_020.jpg', 'Tropicana-Juice-Smooth/Tropicana-Juice-Smooth_021.jpg', 'Tropicana-Juice-Smooth/Tropicana-Juice-Smooth_022.jpg', 'Tropicana-Juice-Smooth/Tropicana-Juice-Smooth_023.jpg', 'Tropicana-Juice-Smooth/Tropicana-Juice-Smooth_024.jpg', 'Tropicana-Mandarin-Morning/Tropicana-Mandarin-Morning_001.jpg', 'Tropicana-Mandarin-Morning/Tropicana-Mandarin-Morning_002.jpg', 'Tropicana-Mandarin-Morning/Tropicana-Mandarin-Morning_003.jpg', 'Tropicana-Mandarin-Morning/Tropicana-Mandarin-Morning_004.jpg', 'Tropicana-Mandarin-Morning/Tropicana-Mandarin-Morning_005.jpg', 'Tropicana-Mandarin-Morning/Tropicana-Mandarin-Morning_006.jpg', 'Tropicana-Mandarin-Morning/Tropicana-Mandarin-Morning_007.jpg', 'Tropicana-Mandarin-Morning/Tropicana-Mandarin-Morning_008.jpg', 'Tropicana-Mandarin-Morning/Tropicana-Mandarin-Morning_009.jpg', 'Tropicana-Mandarin-Morning/Tropicana-Mandarin-Morning_010.jpg', 'Tropicana-Mandarin-Morning/Tropicana-Mandarin-Morning_011.jpg', 'Tropicana-Mandarin-Morning/Tropicana-Mandarin-Morning_012.jpg', 'Tropicana-Mandarin-Morning/Tropicana-Mandarin-Morning_013.jpg', 'Tropicana-Mandarin-Morning/Tropicana-Mandarin-Morning_014.jpg', 'Tropicana-Mandarin-Morning/Tropicana-Mandarin-Morning_015.jpg', 'Tropicana-Mandarin-Morning/Tropicana-Mandarin-Morning_016.jpg', 'Tropicana-Mandarin-Morning/Tropicana-Mandarin-Morning_017.jpg', 'Tropicana-Mandarin-Morning/Tropicana-Mandarin-Morning_018.jpg', 'Tropicana-Mandarin-Morning/Tropicana-Mandarin-Morning_019.jpg', 'Tropicana-Mandarin-Morning/Tropicana-Mandarin-Morning_020.jpg', 'Valio-Vanilla-Yoghurt/Valio-Vanilla-Yoghurt_001.jpg', 'Valio-Vanilla-Yoghurt/Valio-Vanilla-Yoghurt_002.jpg', 'Valio-Vanilla-Yoghurt/Valio-Vanilla-Yoghurt_003.jpg', 'Valio-Vanilla-Yoghurt/Valio-Vanilla-Yoghurt_004.jpg', 'Valio-Vanilla-Yoghurt/Valio-Vanilla-Yoghurt_005.jpg', 'Valio-Vanilla-Yoghurt/Valio-Vanilla-Yoghurt_006.jpg', 'Valio-Vanilla-Yoghurt/Valio-Vanilla-Yoghurt_007.jpg', 'Valio-Vanilla-Yoghurt/Valio-Vanilla-Yoghurt_008.jpg', 'Valio-Vanilla-Yoghurt/Valio-Vanilla-Yoghurt_009.jpg', 'Valio-Vanilla-Yoghurt/Valio-Vanilla-Yoghurt_010.jpg', 'Valio-Vanilla-Yoghurt/Valio-Vanilla-Yoghurt_011.jpg', 'Valio-Vanilla-Yoghurt/Valio-Vanilla-Yoghurt_012.jpg', 'Valio-Vanilla-Yoghurt/Valio-Vanilla-Yoghurt_013.jpg', 'Valio-Vanilla-Yoghurt/Valio-Vanilla-Yoghurt_014.jpg', 'Valio-Vanilla-Yoghurt/Valio-Vanilla-Yoghurt_015.jpg', 'Valio-Vanilla-Yoghurt/Valio-Vanilla-Yoghurt_016.jpg', 'Valio-Vanilla-Yoghurt/Valio-Vanilla-Yoghurt_017.jpg', 'Valio-Vanilla-Yoghurt/Valio-Vanilla-Yoghurt_018.jpg', 'Valio-Vanilla-Yoghurt/Valio-Vanilla-Yoghurt_019.jpg', 'Valio-Vanilla-Yoghurt/Valio-Vanilla-Yoghurt_020.jpg', 'Valio-Vanilla-Yoghurt/Valio-Vanilla-Yoghurt_021.jpg', 'Valio-Vanilla-Yoghurt/Valio-Vanilla-Yoghurt_022.jpg', 'Valio-Vanilla-Yoghurt/Valio-Vanilla-Yoghurt_023.jpg', 'Valio-Vanilla-Yoghurt/Valio-Vanilla-Yoghurt_024.jpg', 'Valio-Vanilla-Yoghurt/Valio-Vanilla-Yoghurt_025.jpg', 'Valio-Vanilla-Yoghurt/Valio-Vanilla-Yoghurt_026.jpg', 'Valio-Vanilla-Yoghurt/Valio-Vanilla-Yoghurt_027.jpg', 'Valio-Vanilla-Yoghurt/Valio-Vanilla-Yoghurt_028.jpg', 'Valio-Vanilla-Yoghurt/Valio-Vanilla-Yoghurt_029.jpg', 'Valio-Vanilla-Yoghurt/Valio-Vanilla-Yoghurt_030.jpg', 'Valio-Vanilla-Yoghurt/Valio-Vanilla-Yoghurt_031.jpg', 'Yoggi-Strawberry-Yoghurt/Yoggi-Strawberry-Yoghurt_001.jpg', 'Yoggi-Strawberry-Yoghurt/Yoggi-Strawberry-Yoghurt_002.jpg', 'Yoggi-Strawberry-Yoghurt/Yoggi-Strawberry-Yoghurt_003.jpg', 'Yoggi-Strawberry-Yoghurt/Yoggi-Strawberry-Yoghurt_004.jpg', 'Yoggi-Strawberry-Yoghurt/Yoggi-Strawberry-Yoghurt_005.jpg', 'Yoggi-Strawberry-Yoghurt/Yoggi-Strawberry-Yoghurt_006.jpg', 'Yoggi-Strawberry-Yoghurt/Yoggi-Strawberry-Yoghurt_007.jpg', 'Yoggi-Strawberry-Yoghurt/Yoggi-Strawberry-Yoghurt_008.jpg', 'Yoggi-Strawberry-Yoghurt/Yoggi-Strawberry-Yoghurt_009.jpg', 'Yoggi-Strawberry-Yoghurt/Yoggi-Strawberry-Yoghurt_010.jpg', 'Yoggi-Strawberry-Yoghurt/Yoggi-Strawberry-Yoghurt_011.jpg', 'Yoggi-Strawberry-Yoghurt/Yoggi-Strawberry-Yoghurt_012.jpg', 'Yoggi-Strawberry-Yoghurt/Yoggi-Strawberry-Yoghurt_013.jpg', 'Yoggi-Strawberry-Yoghurt/Yoggi-Strawberry-Yoghurt_014.jpg', 'Yoggi-Strawberry-Yoghurt/Yoggi-Strawberry-Yoghurt_015.jpg', 'Yoggi-Strawberry-Yoghurt/Yoggi-Strawberry-Yoghurt_016.jpg', 'Yoggi-Strawberry-Yoghurt/Yoggi-Strawberry-Yoghurt_017.jpg', 'Yoggi-Strawberry-Yoghurt/Yoggi-Strawberry-Yoghurt_018.jpg', 'Yoggi-Strawberry-Yoghurt/Yoggi-Strawberry-Yoghurt_019.jpg', 'Yoggi-Strawberry-Yoghurt/Yoggi-Strawberry-Yoghurt_020.jpg', 'Yoggi-Strawberry-Yoghurt/Yoggi-Strawberry-Yoghurt_021.jpg', 'Yoggi-Strawberry-Yoghurt/Yoggi-Strawberry-Yoghurt_022.jpg', 'Yoggi-Strawberry-Yoghurt/Yoggi-Strawberry-Yoghurt_023.jpg', 'Yoggi-Strawberry-Yoghurt/Yoggi-Strawberry-Yoghurt_024.jpg', 'Yoggi-Strawberry-Yoghurt/Yoggi-Strawberry-Yoghurt_025.jpg', 'Yoggi-Strawberry-Yoghurt/Yoggi-Strawberry-Yoghurt_026.jpg', 'Yoggi-Strawberry-Yoghurt/Yoggi-Strawberry-Yoghurt_027.jpg', 'Yoggi-Strawberry-Yoghurt/Yoggi-Strawberry-Yoghurt_028.jpg', 'Yoggi-Strawberry-Yoghurt/Yoggi-Strawberry-Yoghurt_029.jpg', 'Yoggi-Strawberry-Yoghurt/Yoggi-Strawberry-Yoghurt_030.jpg', 'Yoggi-Strawberry-Yoghurt/Yoggi-Strawberry-Yoghurt_031.jpg', 'Yoggi-Strawberry-Yoghurt/Yoggi-Strawberry-Yoghurt_032.jpg', 'Yoggi-Vanilla-Yoghurt/Yoggi-Vanilla-Yoghurt_001.jpg', 'Yoggi-Vanilla-Yoghurt/Yoggi-Vanilla-Yoghurt_002.jpg', 'Yoggi-Vanilla-Yoghurt/Yoggi-Vanilla-Yoghurt_003.jpg', 'Yoggi-Vanilla-Yoghurt/Yoggi-Vanilla-Yoghurt_004.jpg', 'Yoggi-Vanilla-Yoghurt/Yoggi-Vanilla-Yoghurt_005.jpg', 'Yoggi-Vanilla-Yoghurt/Yoggi-Vanilla-Yoghurt_006.jpg', 'Yoggi-Vanilla-Yoghurt/Yoggi-Vanilla-Yoghurt_007.jpg', 'Yoggi-Vanilla-Yoghurt/Yoggi-Vanilla-Yoghurt_008.jpg', 'Yoggi-Vanilla-Yoghurt/Yoggi-Vanilla-Yoghurt_009.jpg', 'Yoggi-Vanilla-Yoghurt/Yoggi-Vanilla-Yoghurt_010.jpg', 'Yoggi-Vanilla-Yoghurt/Yoggi-Vanilla-Yoghurt_011.jpg', 'Yoggi-Vanilla-Yoghurt/Yoggi-Vanilla-Yoghurt_012.jpg', 'Yoggi-Vanilla-Yoghurt/Yoggi-Vanilla-Yoghurt_013.jpg', 'Yoggi-Vanilla-Yoghurt/Yoggi-Vanilla-Yoghurt_014.jpg', 'Yoggi-Vanilla-Yoghurt/Yoggi-Vanilla-Yoghurt_015.jpg', 'Yoggi-Vanilla-Yoghurt/Yoggi-Vanilla-Yoghurt_016.jpg', 'Yoggi-Vanilla-Yoghurt/Yoggi-Vanilla-Yoghurt_017.jpg', 'Yoggi-Vanilla-Yoghurt/Yoggi-Vanilla-Yoghurt_018.jpg']\n"
          ],
          "name": "stdout"
        },
        {
          "output_type": "display_data",
          "data": {
            "image/png": "[encoded data removed]",
            "text/plain": [
              "<Figure size 432x288 with 2 Axes>"
            ]
          },
          "metadata": {
            "tags": [],
            "needs_background": "light"
          }
        }
      ]
    },
    {
      "cell_type": "code",
      "metadata": {
        "id": "3UaiWK4IvOiB"
      },
      "source": [
        "model2.save('/content/gdrive/MyDrive/image-classification-deep-neural-networks-groceries/model_1/groceries_basic_model_dropout.h5')"
      ],
      "execution_count": null,
      "outputs": []
    },
    {
      "cell_type": "code",
      "metadata": {
        "id": "9yKxyahZvbQD"
      },
      "source": [
        ""
      ],
      "execution_count": null,
      "outputs": []
    },
    {
      "cell_type": "markdown",
      "metadata": {
        "id": "LdJTKzwkJFix"
      },
      "source": [
        "## VGG Model"
      ]
    },
    {
      "cell_type": "code",
      "metadata": {
        "id": "nO0kdNxJJPyW"
      },
      "source": [
        "#@title Run this to import the right things\n",
        "from __future__ import absolute_import\n",
        "from __future__ import division\n",
        "from __future__ import print_function\n",
        "\n",
        "import collections\n",
        "import math\n",
        "import os\n",
        "import random\n",
        "from six.moves import urllib\n",
        "import io\n",
        "import shutil\n",
        "import keras\n",
        "from IPython.display import clear_output, Image, display, HTML\n",
        "\n",
        "\n",
        "import tensorflow as tf\n",
        "import tensorflow_hub as hub\n",
        "\n",
        "import numpy as np\n",
        "import matplotlib.pyplot as plt\n",
        "import seaborn as sns\n",
        "import sklearn.metrics as sk_metrics\n",
        "import time\n",
        "from tensorflow.python.keras.applications.resnet50 import preprocess_input\n",
        "from tensorflow.python.keras.preprocessing.image import ImageDataGenerator\n",
        "\n",
        "from keras.applications.inception_v3 import InceptionV3\n",
        "from keras.applications.resnet50 import preprocess_input, decode_predictions, ResNet50\n",
        "from keras.preprocessing import image\n",
        "from keras import regularizers\n",
        "from keras.models import Model\n",
        "from keras.layers import Dense, GlobalAveragePooling2D, BatchNormalization, Dropout, Flatten\n",
        "from keras import backend as K"
      ],
      "execution_count": null,
      "outputs": []
    },
    {
      "cell_type": "code",
      "metadata": {
        "id": "RHIoCdK9JSn9"
      },
      "source": [
        "from keras.applications.vgg16 import VGG16\n",
        "vgg_model = VGG16(weights = 'imagenet')"
      ],
      "execution_count": null,
      "outputs": []
    },
    {
      "cell_type": "code",
      "metadata": {
        "id": "te7bt3hvJYjp"
      },
      "source": [
        "vgg_model.summary()"
      ],
      "execution_count": null,
      "outputs": []
    },
    {
      "cell_type": "code",
      "metadata": {
        "id": "V6Q6YSXSJe1_"
      },
      "source": [
        "from keras.models import Sequential\n",
        "from keras.layers import Dense\n",
        "\n",
        "vgg_transfer_base_model = Sequential()\n",
        "\n",
        "for layer in vgg_model.layers[:-1]:\n",
        "  vgg_transfer_base_model.add(layer)\n",
        "  \n",
        "vgg_transfer_base_model.layers.pop()\n",
        "for layer in vgg_transfer_base_model.layers:\n",
        "  layer.trainable=False\n",
        "\n",
        "vgg_transfer_base_model.add(Dense(1024, activation = 'relu'))\n",
        "vgg_transfer_base_model.add(Dropout(0.5))\n",
        "vgg_transfer_base_model.add(Dense(31, activation='softmax'))\n",
        "vgg_transfer_base_model.summary()"
      ],
      "execution_count": null,
      "outputs": []
    },
    {
      "cell_type": "code",
      "metadata": {
        "id": "yEsRKdA7Jnho"
      },
      "source": [
        "## data augmentation datagen\n",
        "vgg_train_datagen_do = ImageDataGenerator(\n",
        "        rotation_range=40,\n",
        "        width_shift_range=0.2,\n",
        "        height_shift_range=0.2,\n",
        "        fill_mode='nearest',\n",
        "        rescale=1./255,\n",
        "        shear_range=0.2,\n",
        "        zoom_range=0.2,\n",
        "        horizontal_flip=True)\n",
        "\n",
        "## test generator, required for prediction\n",
        "vgg_test_datagen_do = ImageDataGenerator(rescale=1./255)\n",
        "\n",
        "## train generator\n",
        "vgg_train_generator_do = vgg_train_datagen_do.flow_from_directory(\n",
        "        train_path,\n",
        "        target_size=(224, 224),\n",
        "        batch_size=25,\n",
        "        class_mode='categorical')\n",
        "\n",
        "## validation generator\n",
        "vgg_validation_generator_do = vgg_test_datagen_do.flow_from_directory(\n",
        "        validation_path,\n",
        "        target_size=(224, 224),\n",
        "        batch_size=10,\n",
        "        class_mode='categorical')\n",
        "\n",
        "## compile model\n",
        "vgg_transfer_base_model.compile(loss='categorical_crossentropy',\n",
        "              optimizer=optimizers.RMSprop(lr=1e-4),\n",
        "              metrics=['acc'])\n",
        "\n",
        "\n",
        "## set steps per epoch for train\n",
        "train_filenames_do = vgg_train_generator_do.filenames\n",
        "steps_train_do = len(train_filenames_do)/vgg_train_generator_do.batch_size\n",
        "\n",
        "## set steps per epoch for validation\n",
        "validation_filenames_do = vgg_validation_generator_do.filenames\n",
        "steps_valid_do = len(validation_filenames_do)/vgg_validation_generator_do.batch_size\n",
        "\n",
        "## fit model\n",
        "vgg_base_fit_generator_do = vgg_transfer_base_model.fit_generator(\n",
        "        vgg_train_generator_do,\n",
        "        steps_per_epoch=steps_train_do,\n",
        "        epochs=50,\n",
        "        validation_data=vgg_validation_generator_do,\n",
        "        validation_steps=steps_valid_do,\n",
        "        verbose=1)"
      ],
      "execution_count": null,
      "outputs": []
    }
  ]
}